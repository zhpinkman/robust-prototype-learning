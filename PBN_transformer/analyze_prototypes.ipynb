{
 "cells": [
  {
   "cell_type": "code",
   "execution_count": 13,
   "metadata": {},
   "outputs": [],
   "source": [
    "import joblib\n",
    "import json\n",
    "import pandas as pd\n",
    "import numpy as np\n",
    "import utils\n",
    "from transformers import AutoTokenizer\n",
    "import torch\n",
    "import sys\n",
    "from collections import Counter\n",
    "\n",
    "sys.path.append(\"../datasets\")\n",
    "import configs"
   ]
  },
  {
   "cell_type": "code",
   "execution_count": 14,
   "metadata": {},
   "outputs": [],
   "source": [
    "dataset = \"dbpedia\"\n",
    "architecture = \"BART\"\n",
    "data_dir = f\"../datasets/{dataset}_dataset\"\n",
    "batch_size = 256\n",
    "model_name = f\"{dataset}_model_0.9_0.9_20.0\""
   ]
  },
  {
   "cell_type": "code",
   "execution_count": 15,
   "metadata": {},
   "outputs": [],
   "source": [
    "if architecture == \"BART\":\n",
    "    tokenizer = AutoTokenizer.from_pretrained(\"ModelTC/bart-base-mnli\")\n",
    "    # tokenizer = AutoTokenizer.from_pretrained(\"facebook/bart-large-mnli\")\n",
    "elif architecture == \"ELECTRA\":\n",
    "    tokenizer = AutoTokenizer.from_pretrained(\"google/electra-base-discriminator\")\n",
    "else:\n",
    "    print(f\"Invalid backbone architecture: {architecture}\")"
   ]
  },
  {
   "cell_type": "code",
   "execution_count": 16,
   "metadata": {},
   "outputs": [
    {
     "name": "stdout",
     "output_type": "stream",
     "text": [
      "Train data shape:  (24094, 2)\n"
     ]
    },
    {
     "data": {
      "application/vnd.jupyter.widget-view+json": {
       "model_id": "a72230d8051246ab901e6fea44ae219a",
       "version_major": 2,
       "version_minor": 0
      },
      "text/plain": [
       "Map:   0%|          | 0/24094 [00:00<?, ? examples/s]"
      ]
     },
     "metadata": {},
     "output_type": "display_data"
    },
    {
     "data": {
      "application/vnd.jupyter.widget-view+json": {
       "model_id": "edb466f245fe4ce2929c2e10dceeddf5",
       "version_major": 2,
       "version_minor": 0
      },
      "text/plain": [
       "Map:   0%|          | 0/60794 [00:00<?, ? examples/s]"
      ]
     },
     "metadata": {},
     "output_type": "display_data"
    },
    {
     "data": {
      "application/vnd.jupyter.widget-view+json": {
       "model_id": "6c3d1fe39a1e43f391c9e4bdf88dc272",
       "version_major": 2,
       "version_minor": 0
      },
      "text/plain": [
       "Map:   0%|          | 0/1836 [00:00<?, ? examples/s]"
      ]
     },
     "metadata": {},
     "output_type": "display_data"
    },
    {
     "data": {
      "application/vnd.jupyter.widget-view+json": {
       "model_id": "5d45f3471bbd49748641cd521b71fcd1",
       "version_major": 2,
       "version_minor": 0
      },
      "text/plain": [
       "Map:   0%|          | 0/1281 [00:00<?, ? examples/s]"
      ]
     },
     "metadata": {},
     "output_type": "display_data"
    },
    {
     "data": {
      "application/vnd.jupyter.widget-view+json": {
       "model_id": "7ff127e7851e432f85061124728b90a5",
       "version_major": 2,
       "version_minor": 0
      },
      "text/plain": [
       "Map:   0%|          | 0/1836 [00:00<?, ? examples/s]"
      ]
     },
     "metadata": {},
     "output_type": "display_data"
    },
    {
     "data": {
      "application/vnd.jupyter.widget-view+json": {
       "model_id": "a29dbd172b32496a844e2e10becc11a1",
       "version_major": 2,
       "version_minor": 0
      },
      "text/plain": [
       "Map:   0%|          | 0/1281 [00:00<?, ? examples/s]"
      ]
     },
     "metadata": {},
     "output_type": "display_data"
    },
    {
     "data": {
      "application/vnd.jupyter.widget-view+json": {
       "model_id": "0df88be6345442ad9c0c54746e85cdfd",
       "version_major": 2,
       "version_minor": 0
      },
      "text/plain": [
       "Map:   0%|          | 0/800 [00:00<?, ? examples/s]"
      ]
     },
     "metadata": {},
     "output_type": "display_data"
    },
    {
     "data": {
      "application/vnd.jupyter.widget-view+json": {
       "model_id": "3bd26f4181e64e2a97ed5d34018a3f93",
       "version_major": 2,
       "version_minor": 0
      },
      "text/plain": [
       "Map:   0%|          | 0/800 [00:00<?, ? examples/s]"
      ]
     },
     "metadata": {},
     "output_type": "display_data"
    },
    {
     "data": {
      "application/vnd.jupyter.widget-view+json": {
       "model_id": "fd703f4ef41747848ac17b5cbfde8d3f",
       "version_major": 2,
       "version_minor": 0
      },
      "text/plain": [
       "Map:   0%|          | 0/800 [00:00<?, ? examples/s]"
      ]
     },
     "metadata": {},
     "output_type": "display_data"
    },
    {
     "data": {
      "application/vnd.jupyter.widget-view+json": {
       "model_id": "a4ad8e96980d4d7aaa75194e35278a8b",
       "version_major": 2,
       "version_minor": 0
      },
      "text/plain": [
       "Map:   0%|          | 0/800 [00:00<?, ? examples/s]"
      ]
     },
     "metadata": {},
     "output_type": "display_data"
    },
    {
     "data": {
      "application/vnd.jupyter.widget-view+json": {
       "model_id": "92a1ec5aa4c8440ebfcc689b046baa13",
       "version_major": 2,
       "version_minor": 0
      },
      "text/plain": [
       "Map:   0%|          | 0/1000 [00:00<?, ? examples/s]"
      ]
     },
     "metadata": {},
     "output_type": "display_data"
    },
    {
     "data": {
      "application/vnd.jupyter.widget-view+json": {
       "model_id": "5c86e981c4da4fc4a44a37c16fc32477",
       "version_major": 2,
       "version_minor": 0
      },
      "text/plain": [
       "Map:   0%|          | 0/1000 [00:00<?, ? examples/s]"
      ]
     },
     "metadata": {},
     "output_type": "display_data"
    }
   ],
   "source": [
    "all_datasets = utils.load_dataset(\n",
    "    data_dir=data_dir,\n",
    "    tokenizer=tokenizer,\n",
    "    max_length=configs.dataset_to_max_length[dataset],\n",
    ")\n",
    "\n",
    "all_dataloaders = {\n",
    "    dataset_name: torch.utils.data.DataLoader(\n",
    "        all_datasets[dataset_name],\n",
    "        batch_size=batch_size,\n",
    "        shuffle=False,\n",
    "        collate_fn=lambda batch: {\n",
    "            \"input_ids\": torch.LongTensor([i[\"input_ids\"] for i in batch]),\n",
    "            \"attention_mask\": torch.Tensor([i[\"attention_mask\"] for i in batch]),\n",
    "            \"label\": torch.LongTensor([i[\"label\"] for i in batch]),\n",
    "        },\n",
    "    )\n",
    "    for dataset_name in all_datasets.keys()\n",
    "}"
   ]
  },
  {
   "cell_type": "code",
   "execution_count": 17,
   "metadata": {},
   "outputs": [],
   "source": [
    "bestk_train_data_per_proto = joblib.load(\n",
    "    f\"artifacts/{dataset}/{model_name}/bestk_train_data_per_proto.joblib\"\n",
    ")\n",
    "\n",
    "best_protos_per_traineg = joblib.load(\n",
    "    f\"artifacts/{dataset}/{model_name}/best_protos_per_traineg.joblib\"\n",
    ")"
   ]
  },
  {
   "cell_type": "code",
   "execution_count": 18,
   "metadata": {},
   "outputs": [
    {
     "data": {
      "text/plain": [
       "(16, 5)"
      ]
     },
     "execution_count": 18,
     "metadata": {},
     "output_type": "execute_result"
    }
   ],
   "source": [
    "bestk_train_data_per_proto[0].shape"
   ]
  },
  {
   "cell_type": "code",
   "execution_count": 19,
   "metadata": {},
   "outputs": [
    {
     "data": {
      "text/plain": [
       "array([ 2281,  3695, 13359, 10491,  8389])"
      ]
     },
     "execution_count": 19,
     "metadata": {},
     "output_type": "execute_result"
    }
   ],
   "source": [
    "bestk_train_data_per_proto[0][0]"
   ]
  },
  {
   "cell_type": "code",
   "execution_count": 20,
   "metadata": {},
   "outputs": [
    {
     "data": {
      "text/plain": [
       "[(0, 12480),\n",
       " (2, 4588),\n",
       " (3, 2147),\n",
       " (1, 2101),\n",
       " (5, 1911),\n",
       " (6, 588),\n",
       " (4, 176),\n",
       " (8, 78),\n",
       " (7, 25)]"
      ]
     },
     "execution_count": 20,
     "metadata": {},
     "output_type": "execute_result"
    }
   ],
   "source": [
    "sorted(\n",
    "    dict(Counter(all_datasets[\"train\"][\"label\"])).items(),\n",
    "    key=lambda x: x[1],\n",
    "    reverse=True,\n",
    ")"
   ]
  },
  {
   "cell_type": "code",
   "execution_count": 21,
   "metadata": {},
   "outputs": [
    {
     "name": "stdout",
     "output_type": "stream",
     "text": [
      "Label: 0\n",
      "[1 2 0 0 0]\n",
      "[-3.8624659 -3.861605  -3.8615801 -3.8613226 -3.8612463]\n",
      "------------------\n",
      "Label: 1\n",
      "[0 0 0 0 0]\n",
      "[-3.850351  -3.850011  -3.8479881 -3.84537   -3.8445837]\n",
      "------------------\n",
      "Label: 2\n",
      "[0 5 0 0 0]\n",
      "[-3.773628  -3.753562  -3.7531555 -3.752609  -3.7500129]\n",
      "------------------\n",
      "Label: 3\n",
      "[5 3 1 6 0]\n",
      "[-3.7334611 -3.732118  -3.731756  -3.731465  -3.7313373]\n",
      "------------------\n",
      "Label: 4\n",
      "[8 0 2 1 0]\n",
      "[-3.8137    -3.8127384 -3.8117366 -3.811621  -3.8113782]\n",
      "------------------\n",
      "Label: 5\n",
      "[2 0 0 5 0]\n",
      "[-3.8440573 -3.8431418 -3.8419259 -3.8415952 -3.841591 ]\n",
      "------------------\n",
      "Label: 6\n",
      "[0 0 7 0 1]\n",
      "[-3.8162267 -3.815861  -3.8152468 -3.8147988 -3.814158 ]\n",
      "------------------\n",
      "Label: 7\n",
      "[2 1 2 0 0]\n",
      "[-3.8186543 -3.8178284 -3.8177805 -3.8168666 -3.8151393]\n",
      "------------------\n",
      "Label: 8\n",
      "[0 2 3 0 1]\n",
      "[-3.8159566 -3.8146105 -3.813936  -3.8121421 -3.8113277]\n",
      "------------------\n",
      "Label: 9\n",
      "[0 0 2 5 5]\n",
      "[-3.8361278 -3.8330958 -3.8313797 -3.8244326 -3.823787 ]\n",
      "------------------\n",
      "Label: 10\n",
      "[6 0 0 8 6]\n",
      "[-3.8473017 -3.8442073 -3.8412511 -3.8412097 -3.8411608]\n",
      "------------------\n",
      "Label: 11\n",
      "[2 0 2 0 2]\n",
      "[-3.8592114 -3.8589242 -3.8586645 -3.8585682 -3.8579779]\n",
      "------------------\n",
      "Label: 12\n",
      "[0 3 3 0 0]\n",
      "[-3.8435366 -3.8415825 -3.8415651 -3.8404522 -3.8403897]\n",
      "------------------\n",
      "Label: 13\n",
      "[0 1 0 0 5]\n",
      "[-3.8274333 -3.8194926 -3.8166285 -3.8157206 -3.8154728]\n",
      "------------------\n",
      "Label: 14\n",
      "[1 0 3 1 0]\n",
      "[-3.7015424 -3.693426  -3.6883593 -3.683753  -3.681164 ]\n",
      "------------------\n",
      "Label: 15\n",
      "[0 2 5 2 0]\n",
      "[-3.8416507 -3.8415422 -3.8394284 -3.8367298 -3.8365228]\n",
      "------------------\n"
     ]
    }
   ],
   "source": [
    "for label in range(16):\n",
    "    print(f\"Label: {label}\")\n",
    "    print(\n",
    "        np.array(all_datasets[\"train\"][\"label\"])[bestk_train_data_per_proto[0][label]]\n",
    "    )\n",
    "    print(bestk_train_data_per_proto[1][label])\n",
    "    print(\"------------------\")"
   ]
  }
 ],
 "metadata": {
  "kernelspec": {
   "display_name": "base",
   "language": "python",
   "name": "python3"
  },
  "language_info": {
   "codemirror_mode": {
    "name": "ipython",
    "version": 3
   },
   "file_extension": ".py",
   "mimetype": "text/x-python",
   "name": "python",
   "nbconvert_exporter": "python",
   "pygments_lexer": "ipython3",
   "version": "3.9.13"
  },
  "orig_nbformat": 4
 },
 "nbformat": 4,
 "nbformat_minor": 2
}
