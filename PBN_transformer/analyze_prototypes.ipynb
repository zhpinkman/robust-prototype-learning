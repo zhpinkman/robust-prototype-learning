{
 "cells": [
  {
   "cell_type": "code",
   "execution_count": 1,
   "metadata": {},
   "outputs": [
    {
     "name": "stderr",
     "output_type": "stream",
     "text": [
      "<frozen importlib._bootstrap>:228: RuntimeWarning: scipy._lib.messagestream.MessageStream size changed, may indicate binary incompatibility. Expected 56 from C header, got 64 from PyObject\n"
     ]
    }
   ],
   "source": [
    "import joblib\n",
    "import json\n",
    "import pandas as pd\n",
    "import numpy as np\n",
    "import utils\n",
    "from transformers import AutoTokenizer\n",
    "import torch\n",
    "import sys\n",
    "from collections import Counter\n",
    "\n",
    "sys.path.append(\"../datasets\")\n",
    "import configs"
   ]
  },
  {
   "cell_type": "code",
   "execution_count": 2,
   "metadata": {},
   "outputs": [],
   "source": [
    "dataset = \"dbpedia\"\n",
    "architecture = \"BART\"\n",
    "data_dir = f\"../datasets/{dataset}_dataset\"\n",
    "batch_size = 256\n",
    "model_name = f\"{dataset}_model_0.9_0.9_0.9\""
   ]
  },
  {
   "cell_type": "code",
   "execution_count": 3,
   "metadata": {},
   "outputs": [],
   "source": [
    "if architecture == \"BART\":\n",
    "    tokenizer = AutoTokenizer.from_pretrained(\"ModelTC/bart-base-mnli\")\n",
    "elif architecture == \"ELECTRA\":\n",
    "    tokenizer = AutoTokenizer.from_pretrained(\"google/electra-base-discriminator\")\n",
    "else:\n",
    "    print(f\"Invalid backbone architecture: {architecture}\")"
   ]
  },
  {
   "cell_type": "code",
   "execution_count": 4,
   "metadata": {},
   "outputs": [
    {
     "name": "stdout",
     "output_type": "stream",
     "text": [
      "Train data shape:  (24094, 2)\n"
     ]
    },
    {
     "data": {
      "application/vnd.jupyter.widget-view+json": {
       "model_id": "5fb879d4f80e45ab92b67e3b5ffe3fa5",
       "version_major": 2,
       "version_minor": 0
      },
      "text/plain": [
       "Map:   0%|          | 0/24094 [00:00<?, ? examples/s]"
      ]
     },
     "metadata": {},
     "output_type": "display_data"
    },
    {
     "data": {
      "application/vnd.jupyter.widget-view+json": {
       "model_id": "78a5504c27ce446794e840116acf580e",
       "version_major": 2,
       "version_minor": 0
      },
      "text/plain": [
       "Map:   0%|          | 0/60794 [00:00<?, ? examples/s]"
      ]
     },
     "metadata": {},
     "output_type": "display_data"
    },
    {
     "data": {
      "application/vnd.jupyter.widget-view+json": {
       "model_id": "0442f69d10294aa687b5edec9cba1d5c",
       "version_major": 2,
       "version_minor": 0
      },
      "text/plain": [
       "Map:   0%|          | 0/1836 [00:00<?, ? examples/s]"
      ]
     },
     "metadata": {},
     "output_type": "display_data"
    },
    {
     "data": {
      "application/vnd.jupyter.widget-view+json": {
       "model_id": "7531c4eaf6824405b61d857cd9e8922e",
       "version_major": 2,
       "version_minor": 0
      },
      "text/plain": [
       "Map:   0%|          | 0/1281 [00:00<?, ? examples/s]"
      ]
     },
     "metadata": {},
     "output_type": "display_data"
    },
    {
     "data": {
      "application/vnd.jupyter.widget-view+json": {
       "model_id": "4fe60d7bca414d8291bade916ef1c97b",
       "version_major": 2,
       "version_minor": 0
      },
      "text/plain": [
       "Map:   0%|          | 0/1836 [00:00<?, ? examples/s]"
      ]
     },
     "metadata": {},
     "output_type": "display_data"
    },
    {
     "data": {
      "application/vnd.jupyter.widget-view+json": {
       "model_id": "315b3a02ff26437688d97488e453ee09",
       "version_major": 2,
       "version_minor": 0
      },
      "text/plain": [
       "Map:   0%|          | 0/1281 [00:00<?, ? examples/s]"
      ]
     },
     "metadata": {},
     "output_type": "display_data"
    },
    {
     "data": {
      "application/vnd.jupyter.widget-view+json": {
       "model_id": "9225d2d266604d1e9d4a65686c12ec38",
       "version_major": 2,
       "version_minor": 0
      },
      "text/plain": [
       "Map:   0%|          | 0/800 [00:00<?, ? examples/s]"
      ]
     },
     "metadata": {},
     "output_type": "display_data"
    },
    {
     "data": {
      "application/vnd.jupyter.widget-view+json": {
       "model_id": "fc1c65556df745cdaac58a1971b1f181",
       "version_major": 2,
       "version_minor": 0
      },
      "text/plain": [
       "Map:   0%|          | 0/800 [00:00<?, ? examples/s]"
      ]
     },
     "metadata": {},
     "output_type": "display_data"
    },
    {
     "data": {
      "application/vnd.jupyter.widget-view+json": {
       "model_id": "74ca05ff440949d59c48204525b365a4",
       "version_major": 2,
       "version_minor": 0
      },
      "text/plain": [
       "Map:   0%|          | 0/800 [00:00<?, ? examples/s]"
      ]
     },
     "metadata": {},
     "output_type": "display_data"
    },
    {
     "data": {
      "application/vnd.jupyter.widget-view+json": {
       "model_id": "6dc6634475a14e65800f37d7492bdcb0",
       "version_major": 2,
       "version_minor": 0
      },
      "text/plain": [
       "Map:   0%|          | 0/800 [00:00<?, ? examples/s]"
      ]
     },
     "metadata": {},
     "output_type": "display_data"
    },
    {
     "data": {
      "application/vnd.jupyter.widget-view+json": {
       "model_id": "aa2e429382aa4934813036426c9b2469",
       "version_major": 2,
       "version_minor": 0
      },
      "text/plain": [
       "Map:   0%|          | 0/1000 [00:00<?, ? examples/s]"
      ]
     },
     "metadata": {},
     "output_type": "display_data"
    },
    {
     "data": {
      "application/vnd.jupyter.widget-view+json": {
       "model_id": "d6d83c72ed9447eba0833e24d2c59500",
       "version_major": 2,
       "version_minor": 0
      },
      "text/plain": [
       "Map:   0%|          | 0/1000 [00:00<?, ? examples/s]"
      ]
     },
     "metadata": {},
     "output_type": "display_data"
    }
   ],
   "source": [
    "all_datasets = utils.load_dataset(\n",
    "    data_dir=data_dir,\n",
    "    tokenizer=tokenizer,\n",
    "    max_length=configs.dataset_to_max_length[dataset],\n",
    ")\n",
    "\n",
    "all_dataloaders = {\n",
    "    dataset_name: torch.utils.data.DataLoader(\n",
    "        all_datasets[dataset_name],\n",
    "        batch_size=batch_size,\n",
    "        shuffle=False,\n",
    "        collate_fn=lambda batch: {\n",
    "            \"input_ids\": torch.LongTensor([i[\"input_ids\"] for i in batch]),\n",
    "            \"attention_mask\": torch.Tensor([i[\"attention_mask\"] for i in batch]),\n",
    "            \"label\": torch.LongTensor([i[\"label\"] for i in batch]),\n",
    "        },\n",
    "    )\n",
    "    for dataset_name in all_datasets.keys()\n",
    "    if dataset_name != \"train\"\n",
    "}"
   ]
  },
  {
   "cell_type": "code",
   "execution_count": 5,
   "metadata": {},
   "outputs": [],
   "source": [
    "bestk_train_data_per_proto = joblib.load(\n",
    "    f\"artifacts/{dataset}/{model_name}/bestk_train_data_per_proto.joblib\"\n",
    ")\n",
    "\n",
    "best_protos_per_traineg = joblib.load(\n",
    "    f\"artifacts/{dataset}/{model_name}/best_protos_per_traineg.joblib\"\n",
    ")"
   ]
  },
  {
   "cell_type": "code",
   "execution_count": 6,
   "metadata": {},
   "outputs": [],
   "source": [
    "num_prototypes = bestk_train_data_per_proto.indices.shape[1]\n",
    "num_training_examples = best_protos_per_traineg[0].shape[0]"
   ]
  },
  {
   "cell_type": "code",
   "execution_count": 7,
   "metadata": {},
   "outputs": [
    {
     "data": {
      "text/plain": [
       "[(0, 31495),\n",
       " (2, 11574),\n",
       " (3, 5418),\n",
       " (1, 5300),\n",
       " (5, 4820),\n",
       " (6, 1483),\n",
       " (4, 444),\n",
       " (8, 198),\n",
       " (7, 62)]"
      ]
     },
     "execution_count": 7,
     "metadata": {},
     "output_type": "execute_result"
    }
   ],
   "source": [
    "sorted(\n",
    "    dict(Counter(all_datasets[\"test\"][\"label\"])).items(),\n",
    "    key=lambda x: x[1],\n",
    "    reverse=True,\n",
    ")"
   ]
  },
  {
   "cell_type": "code",
   "execution_count": 8,
   "metadata": {},
   "outputs": [
    {
     "data": {
      "text/plain": [
       "{'Agent': 0,\n",
       " 'Work': 1,\n",
       " 'Place': 2,\n",
       " 'Species': 3,\n",
       " 'UnitOfWork': 4,\n",
       " 'Event': 5,\n",
       " 'SportsSeason': 6,\n",
       " 'Device': 7,\n",
       " 'TopicalConcept': 8}"
      ]
     },
     "execution_count": 8,
     "metadata": {},
     "output_type": "execute_result"
    }
   ],
   "source": [
    "configs.dbpedia_dataset_labels2ids"
   ]
  },
  {
   "cell_type": "code",
   "execution_count": 9,
   "metadata": {},
   "outputs": [
    {
     "name": "stdout",
     "output_type": "stream",
     "text": [
      "Prototype 0\n",
      "[0 0 0 0 2]\n",
      "[-3.86000395 -3.8521657  -3.84659767 -3.8372066  -3.80397987]\n",
      "------------------\n",
      "Prototype 1\n",
      "[1 0 3 0 0]\n",
      "[-3.84467077 -3.83111954 -3.79959321 -3.7980237  -3.76843357]\n",
      "------------------\n",
      "Prototype 2\n",
      "[0 5 0 6 0]\n",
      "[-3.84857941 -3.84825969 -3.83848882 -3.80562568 -3.41503525]\n",
      "------------------\n",
      "Prototype 3\n",
      "[0 5 0 1 2]\n",
      "[-3.85732651 -3.84428358 -3.84127998 -3.83616781 -3.80349612]\n",
      "------------------\n",
      "Prototype 4\n",
      "[0 2 1 0 0]\n",
      "[-3.84601855 -3.84326577 -3.82910824 -3.79504251 -3.78783989]\n",
      "------------------\n",
      "Prototype 5\n",
      "[0 0 0 3 1]\n",
      "[-3.84707737 -3.84617877 -3.83714962 -3.76204228 -3.41468787]\n",
      "------------------\n",
      "Prototype 6\n",
      "[5 0 5 2 3]\n",
      "[-3.85466504 -3.8411448  -3.83814526 -3.83546615 -3.79589629]\n",
      "------------------\n",
      "Prototype 7\n",
      "[2 3 0 5 3]\n",
      "[-3.84377384 -3.83243132 -3.8015604  -3.79333043 -3.78693724]\n",
      "------------------\n",
      "Prototype 8\n",
      "[3 0 3 0 4]\n",
      "[-3.84385467 -3.83619356 -3.82836747 -3.75422311 -3.41041017]\n",
      "------------------\n",
      "Prototype 9\n",
      "[0 3 2 2 1]\n",
      "[-3.84332275 -3.83947897 -3.83760405 -3.83436966 -3.79154563]\n",
      "------------------\n",
      "Prototype 10\n",
      "[0 2 1 0 0]\n",
      "[-3.8546629  -3.84238029 -3.83118653 -3.79939389 -3.79190326]\n",
      "------------------\n",
      "Prototype 11\n",
      "[0 0 0 1 0]\n",
      "[-3.83597755 -3.82622051 -3.78159857 -3.7518096  -3.40904832]\n",
      "------------------\n",
      "Prototype 12\n",
      "[0 0 2 0 0]\n",
      "[-3.8430779  -3.84199905 -3.83722067 -3.8341887  -3.79016542]\n",
      "------------------\n",
      "Prototype 13\n",
      "[0 0 0 2 1]\n",
      "[-3.85315895 -3.84000993 -3.83940005 -3.83057642 -3.79926968]\n",
      "------------------\n",
      "Prototype 14\n",
      "[0 2 5 6 5]\n",
      "[-3.82614231 -3.79089618 -3.77772999 -3.75113773 -3.40819836]\n",
      "------------------\n",
      "Prototype 15\n",
      "[0 0 5 2 0]\n",
      "[-3.84193897 -3.84145379 -3.83664918 -3.83572006 -3.79014158]\n",
      "------------------\n",
      "labels_score\n",
      "defaultdict(<class 'int'>, {0: 8.200000000000003, 2: 2.4, 1: 1.5999999999999999, 3: 1.5999999999999999, 5: 1.5999999999999999, 6: 0.4, 4: 0.2})\n"
     ]
    }
   ],
   "source": [
    "from collections import defaultdict\n",
    "\n",
    "indices = bestk_train_data_per_proto.indices.reshape(num_prototypes, -1).tolist()\n",
    "values = bestk_train_data_per_proto.values.reshape(num_prototypes, -1).tolist()\n",
    "\n",
    "indices_values_for_all_prototypes = []\n",
    "for i in range(num_prototypes):\n",
    "    indices_values_per_prototype = list(zip(indices[i], values[i]))\n",
    "    indices_values_per_prototype.sort(key=lambda x: x[1], reverse=False)\n",
    "    indices_values_for_all_prototypes.append(indices_values_per_prototype)\n",
    "\n",
    "labels_score = defaultdict(int)\n",
    "\n",
    "for i in range(num_prototypes):\n",
    "    print(f\"Prototype {i}\")\n",
    "    training_examples_indices = np.array(\n",
    "        [x[0] for x in indices_values_for_all_prototypes[i]]\n",
    "    )\n",
    "    training_examples_distances = np.array(\n",
    "        [x[1] for x in indices_values_for_all_prototypes[i]]\n",
    "    )\n",
    "    training_labels_for_prototype = np.array(all_datasets[\"test\"][\"label\"])[\n",
    "        training_examples_indices\n",
    "    ]\n",
    "    print(training_labels_for_prototype)\n",
    "    for rank, label in enumerate(training_labels_for_prototype):\n",
    "        labels_score[label] += 1 / 5\n",
    "    # print(np.array(all_datasets[\"test\"][\"text\"])[training_examples_indices])\n",
    "    print(training_examples_distances)\n",
    "    print(\"------------------\")\n",
    "print(\"labels_score\")\n",
    "print(labels_score)"
   ]
  },
  {
   "cell_type": "code",
   "execution_count": 101,
   "metadata": {},
   "outputs": [],
   "source": [
    "indices = best_protos_per_traineg[0].tolist()\n",
    "values = best_protos_per_traineg[1].tolist()\n",
    "\n",
    "prototypes_and_distances_to_examples_sorted = []\n",
    "for i in range(num_training_examples):\n",
    "    indices_values_per_training_example = list(zip(indices[i], values[i]))\n",
    "    indices_values_per_training_example.sort(key=lambda x: x[1], reverse=False)\n",
    "    prototypes_and_distances_to_examples_sorted.append(\n",
    "        indices_values_per_training_example\n",
    "    )\n",
    "\n",
    "prototypes_and_distances_to_examples_sorted = np.array(\n",
    "    prototypes_and_distances_to_examples_sorted\n",
    ")"
   ]
  },
  {
   "cell_type": "code",
   "execution_count": 102,
   "metadata": {},
   "outputs": [],
   "source": [
    "import matplotlib.pyplot as plt"
   ]
  },
  {
   "cell_type": "code",
   "execution_count": 103,
   "metadata": {},
   "outputs": [
    {
     "data": {
      "text/plain": [
       "{2.0: 5254,\n",
       " 15.0: 4832,\n",
       " 5.0: 4642,\n",
       " 8.0: 4625,\n",
       " 14.0: 4538,\n",
       " 13.0: 4243,\n",
       " 1.0: 3963,\n",
       " 0.0: 3862,\n",
       " 12.0: 3785,\n",
       " 7.0: 3467,\n",
       " 9.0: 3307,\n",
       " 4.0: 3211,\n",
       " 11.0: 2980,\n",
       " 3.0: 2952,\n",
       " 6.0: 2882,\n",
       " 10.0: 2251}"
      ]
     },
     "execution_count": 103,
     "metadata": {},
     "output_type": "execute_result"
    }
   ],
   "source": [
    "closest_prototypes_to_test_examples_stats = dict(\n",
    "    sorted(\n",
    "        dict(\n",
    "            Counter(prototypes_and_distances_to_examples_sorted[:, 0, 0].tolist())\n",
    "        ).items(),\n",
    "        key=lambda x: x[1],\n",
    "        reverse=True,\n",
    "    )\n",
    ")\n",
    "closest_prototypes_to_test_examples_stats"
   ]
  },
  {
   "cell_type": "code",
   "execution_count": 104,
   "metadata": {},
   "outputs": [
    {
     "data": {
      "image/png": "[encoded data removed]",
      "text/plain": [
       "<Figure size 640x480 with 1 Axes>"
      ]
     },
     "metadata": {},
     "output_type": "display_data"
    }
   ],
   "source": [
    "### make a distribution plot from the above with spaces between the bars\n",
    "plt.bar(\n",
    "    list(closest_prototypes_to_test_examples_stats.keys()),\n",
    "    list(closest_prototypes_to_test_examples_stats.values()),\n",
    ")\n",
    "# add the xticks\n",
    "plt.xticks(list(closest_prototypes_to_test_examples_stats.keys()))\n",
    "\n",
    "# remove the top and right spines from plot\n",
    "plt.gca().spines[\"right\"].set_visible(False)\n",
    "plt.gca().spines[\"top\"].set_visible(False)\n",
    "\n",
    "# plt.title(\"Distribution of number of prototypes closest to training examples\")\n",
    "plt.xlabel(\"Prototype\")\n",
    "plt.ylabel(\"#Data points closest to prototype\")\n",
    "\n",
    "plt.ylim(1500, 5500)\n",
    "\n",
    "plt.savefig(\n",
    "    \"../figures/prototypes_number_of_datapoints_closest_to_prototype_dist.png\", dpi=500\n",
    ")\n",
    "\n",
    "plt.show()"
   ]
  },
  {
   "cell_type": "code",
   "execution_count": 105,
   "metadata": {},
   "outputs": [
    {
     "name": "stdout",
     "output_type": "stream",
     "text": [
      "ProtoTEx best model: 16\n",
      "Using backone: BART\n"
     ]
    },
    {
     "name": "stderr",
     "output_type": "stream",
     "text": [
      "Some weights of the model checkpoint at ModelTC/bart-base-mnli were not used when initializing BartForConditionalGeneration: ['classification_head.out_proj.weight', 'classification_head.dense.weight', 'classification_head.dense.bias', 'classification_head.out_proj.bias']\n",
      "- This IS expected if you are initializing BartForConditionalGeneration from the checkpoint of a model trained on another task or with another architecture (e.g. initializing a BertForSequenceClassification model from a BertForPreTraining model).\n",
      "- This IS NOT expected if you are initializing BartForConditionalGeneration from the checkpoint of a model that you expect to be exactly identical (initializing a BertForSequenceClassification model from a BertForSequenceClassification model).\n"
     ]
    },
    {
     "name": "stdout",
     "output_type": "stream",
     "text": [
      "Loading model checkpoint: Models/dbpedia_model_0.9_0.9_0.9\n",
      "Skipping weights for: loss_fn.weight\n"
     ]
    }
   ],
   "source": [
    "model = utils.load_model(\"dbpedia_model_0.9_0.9_0.9\", 16, \"BART\", \"dbpedia\")"
   ]
  },
  {
   "cell_type": "code",
   "execution_count": 106,
   "metadata": {},
   "outputs": [
    {
     "data": {
      "text/plain": [
       "torch.Size([9, 16])"
      ]
     },
     "execution_count": 106,
     "metadata": {},
     "output_type": "execute_result"
    }
   ],
   "source": [
    "model.classfn_model.weight.shape"
   ]
  },
  {
   "cell_type": "code",
   "execution_count": 107,
   "metadata": {},
   "outputs": [
    {
     "data": {
      "text/plain": [
       "(tensor([ 1.0616, -0.6642, -1.0115,  0.2810, -0.7151, -0.7977,  0.4659, -0.3716,\n",
       "         -0.5645, -0.4645,  0.4588, -0.1520,  0.9578, -0.7280, -0.0200,  0.9800],\n",
       "        grad_fn=<SelectBackward0>),\n",
       " array([ 2,  5, 13,  4,  1,  8,  9,  7, 11, 14,  3, 10,  6, 12, 15,  0]))"
      ]
     },
     "execution_count": 107,
     "metadata": {},
     "output_type": "execute_result"
    }
   ],
   "source": [
    "model.classfn_model.weight[0], np.argsort(model.classfn_model.weight[0].tolist())"
   ]
  },
  {
   "cell_type": "code",
   "execution_count": 133,
   "metadata": {},
   "outputs": [
    {
     "data": {
      "text/plain": [
       "(60794, 16, 2)"
      ]
     },
     "execution_count": 133,
     "metadata": {},
     "output_type": "execute_result"
    }
   ],
   "source": [
    "prototypes_and_distances_to_examples_sorted.shape"
   ]
  },
  {
   "cell_type": "code",
   "execution_count": 216,
   "metadata": {},
   "outputs": [
    {
     "data": {
      "text/plain": [
       "array([-3.79599667, -0.10770952, -0.00999027,  0.02168385,  0.13249105,\n",
       "        0.15947689,  0.16542596,  0.21255514,  0.21273048,  0.25009066,\n",
       "        0.26976225,  0.337327  ,  0.50356704,  0.50578386,  0.51689297,\n",
       "        0.62588   ])"
      ]
     },
     "execution_count": 216,
     "metadata": {},
     "output_type": "execute_result"
    }
   ],
   "source": [
    "prototypes_and_distances_to_examples_sorted[\n",
    "    0, 0, 1\n",
    "], prototypes_and_distances_to_examples_sorted[0, -1, 1]"
   ]
  },
  {
   "cell_type": "code",
   "execution_count": 196,
   "metadata": {},
   "outputs": [
    {
     "data": {
      "text/plain": [
       "array([[ 4.,  8.,  5., ...,  3.,  6.,  0.],\n",
       "       [ 7.,  2.,  1., ..., 12., 10.,  0.],\n",
       "       [ 0.,  2.,  1., ..., 11.,  9., 10.],\n",
       "       ...,\n",
       "       [ 4.,  8.,  2., ..., 12.,  0.,  6.],\n",
       "       [ 2.,  5.,  8., ..., 12.,  0.,  6.],\n",
       "       [ 0.,  2., 14., ..., 11.,  9., 10.]])"
      ]
     },
     "execution_count": 196,
     "metadata": {},
     "output_type": "execute_result"
    }
   ],
   "source": [
    "closest_prototypes_indices = prototypes_and_distances_to_examples_sorted[:, :, 0]\n",
    "closest_prototypes_indices"
   ]
  },
  {
   "cell_type": "code",
   "execution_count": 197,
   "metadata": {},
   "outputs": [
    {
     "data": {
      "text/plain": [
       "[[2, 5, 13, 4, 1, 8, 9, 7, 11, 14, 3, 10, 6, 12, 15, 0],\n",
       " [12, 11, 3, 1, 8, 7, 2, 15, 14, 6, 9, 10, 0, 13, 5, 4],\n",
       " [0, 2, 1, 4, 3, 6, 13, 14, 12, 11, 7, 9, 15, 8, 5, 10],\n",
       " [5, 13, 14, 7, 0, 8, 15, 3, 10, 11, 6, 1, 12, 9, 2, 4],\n",
       " [6, 4, 0, 5, 15, 9, 12, 14, 11, 10, 13, 3, 2, 8, 1, 7],\n",
       " [15, 2, 6, 3, 14, 1, 8, 10, 7, 11, 12, 0, 4, 5, 13, 9],\n",
       " [9, 1, 10, 0, 2, 15, 6, 8, 7, 14, 13, 3, 12, 11, 5, 4],\n",
       " [7, 3, 0, 15, 8, 10, 4, 12, 9, 1, 2, 13, 6, 5, 14, 11],\n",
       " [10, 6, 3, 2, 11, 5, 7, 8, 4, 12, 0, 14, 1, 15, 13, 9]]"
      ]
     },
     "execution_count": 197,
     "metadata": {},
     "output_type": "execute_result"
    }
   ],
   "source": [
    "most_effective_prototype_in_each_class_prediction = []\n",
    "for i in range(9):\n",
    "    weights = model.classfn_model.weight[i].detach().numpy().tolist()\n",
    "    most_effective_prototype_in_each_class_prediction.append(\n",
    "        np.argsort(weights)[:].tolist()\n",
    "    )\n",
    "most_effective_prototype_in_each_class_prediction"
   ]
  },
  {
   "cell_type": "code",
   "execution_count": 198,
   "metadata": {},
   "outputs": [],
   "source": [
    "prototypes_and_distances_to_examples = []\n",
    "indices = best_protos_per_traineg[0].tolist()\n",
    "values = best_protos_per_traineg[1].tolist()\n",
    "\n",
    "for i in range(num_training_examples):\n",
    "    prototype_and_distance_for_one_example = list(zip(indices[i], values[i]))\n",
    "    prototype_and_distance_for_one_example.sort(key=lambda x: x[0], reverse=False)\n",
    "    prototypes_and_distances_to_examples.append(prototype_and_distance_for_one_example)\n",
    "\n",
    "prototypes_and_distances_to_examples = np.array(prototypes_and_distances_to_examples)"
   ]
  },
  {
   "cell_type": "code",
   "execution_count": 199,
   "metadata": {},
   "outputs": [],
   "source": [
    "prototypes_being_actually_used = []\n",
    "for input_example_index in range(num_training_examples):\n",
    "    predicted_class = np.argmax(\n",
    "        np.dot(\n",
    "            model.classfn_model.weight.detach().cpu().numpy(),\n",
    "            prototypes_and_distances_to_examples[input_example_index, :, 1],\n",
    "        )\n",
    "    )\n",
    "    prototypes_being_actually_used.append(\n",
    "        most_effective_prototype_in_each_class_prediction[predicted_class]\n",
    "    )\n",
    "prototypes_being_actually_used = np.array(prototypes_being_actually_used)"
   ]
  },
  {
   "cell_type": "code",
   "execution_count": 213,
   "metadata": {},
   "outputs": [
    {
     "name": "stdout",
     "output_type": "stream",
     "text": [
      "Precision at k - 2, and number of prototypes - 2, for all data points:  0.6542874296805605\n"
     ]
    }
   ],
   "source": [
    "number_of_prototypes_used = 2\n",
    "k_for_precision_at_k = 2\n",
    "\n",
    "precision_at_k_for_all_data_points = []\n",
    "for i in range(num_training_examples):\n",
    "    x = 0\n",
    "    for k in range(1, k_for_precision_at_k + 1):\n",
    "        x += (\n",
    "            len(\n",
    "                set.intersection(\n",
    "                    set(closest_prototypes_indices[i][:number_of_prototypes_used]),\n",
    "                    set(prototypes_being_actually_used[i][:k]),\n",
    "                )\n",
    "            )\n",
    "            / k\n",
    "        )\n",
    "    precision_at_k_for_all_data_points.append(x / number_of_prototypes_used)\n",
    "\n",
    "\n",
    "print(\n",
    "    \"Precision at k - {}, and number of prototypes - {}, for all data points: \".format(\n",
    "        k_for_precision_at_k, number_of_prototypes_used\n",
    "    ),\n",
    "    sum(precision_at_k_for_all_data_points) / num_training_examples,\n",
    ")"
   ]
  },
  {
   "cell_type": "code",
   "execution_count": 45,
   "metadata": {},
   "outputs": [
    {
     "data": {
      "image/png": "[encoded data removed]",
      "text/plain": [
       "<Figure size 1500x1000 with 9 Axes>"
      ]
     },
     "metadata": {},
     "output_type": "display_data"
    }
   ],
   "source": [
    "# for each index in the model.classfn_model.weight which means 9 indices or classes, show the contribution of each prototype by its weight in a bar plot\n",
    "\n",
    "fig, axs = plt.subplots(3, 3, figsize=(15, 10))\n",
    "for ax_index, ax in enumerate(axs.flatten()):\n",
    "    weights = model.classfn_model.weight[ax_index].detach().numpy().tolist()\n",
    "    ax.bar(\n",
    "        list(range(16)),\n",
    "        weights,\n",
    "    )\n",
    "    closest_prototypes_being_used = np.argsort(weights)[:1]\n",
    "    # farthest_prototypes_being_used = np.argsort(weights)[-2:]\n",
    "    ax.set_xticks(list(range(16)))\n",
    "    ax.set_title(\n",
    "        f\"Class {ax_index} - closest prototypes being used: {closest_prototypes_being_used}\"\n",
    "    )\n",
    "    ax.spines[\"right\"].set_visible(False)\n",
    "    ax.spines[\"top\"].set_visible(False)\n",
    "    # assign labels for x axis and y axis\n",
    "    ax.set_xlabel(\"Prototype\")\n",
    "    ax.set_ylabel(\"Weight\")\n",
    "plt.tight_layout()\n",
    "plt.show()"
   ]
  },
  {
   "cell_type": "code",
   "execution_count": 78,
   "metadata": {},
   "outputs": [],
   "source": [
    "best_protos_per_testeg = joblib.load(\n",
    "    f\"artifacts/{dataset}/{model_name}/best_protos_per_testeg.joblib\"\n",
    ")"
   ]
  },
  {
   "cell_type": "code",
   "execution_count": 79,
   "metadata": {},
   "outputs": [
    {
     "data": {
      "text/plain": [
       "dict_keys(['test_textfooler', 'test_textbugger', 'adv_textfooler', 'adv_textbugger', 'test_textfooler_protocnn', 'adv_textfooler_protocnn', 'test_textbugger_protocnn', 'adv_textbugger_protocnn', 'adv_paraphrased', 'test_paraphrased'])"
      ]
     },
     "execution_count": 79,
     "metadata": {},
     "output_type": "execute_result"
    }
   ],
   "source": [
    "best_protos_per_testeg.keys()"
   ]
  },
  {
   "cell_type": "code",
   "execution_count": 91,
   "metadata": {},
   "outputs": [],
   "source": [
    "dataset_name = \"{}_textbugger\"\n",
    "\n",
    "prototoypes_indices_values_per_point_test = []\n",
    "prototoypes_indices_values_per_point_adv = []\n",
    "test_predictions = np.array(\n",
    "    best_protos_per_testeg[dataset_name.format(\"test\")][2].tolist()\n",
    ")\n",
    "adv_predictions = np.array(\n",
    "    best_protos_per_testeg[dataset_name.format(\"adv\")][2].tolist()\n",
    ")\n",
    "true_labels = np.array(all_datasets[dataset_name.format(\"test\")][\"label\"])\n",
    "\n",
    "\n",
    "for split in [\"test\", \"adv\"]:\n",
    "    for i in range(len(all_datasets[dataset_name.format(split)])):\n",
    "        indices = best_protos_per_testeg[dataset_name.format(split)][0].tolist()\n",
    "        values = best_protos_per_testeg[dataset_name.format(split)][1].tolist()\n",
    "\n",
    "        indices_values_per_training_example = list(zip(indices[i], values[i]))\n",
    "        indices_values_per_training_example.sort(key=lambda x: x[1], reverse=False)\n",
    "\n",
    "        if split == \"test\":\n",
    "            prototoypes_indices_values_per_point_test.append(\n",
    "                indices_values_per_training_example\n",
    "            )\n",
    "        else:\n",
    "            prototoypes_indices_values_per_point_adv.append(\n",
    "                indices_values_per_training_example\n",
    "            )\n",
    "prototoypes_indices_values_per_point_test = np.array(\n",
    "    prototoypes_indices_values_per_point_test\n",
    ")\n",
    "prototoypes_indices_values_per_point_adv = np.array(\n",
    "    prototoypes_indices_values_per_point_adv\n",
    ")"
   ]
  },
  {
   "cell_type": "code",
   "execution_count": 102,
   "metadata": {},
   "outputs": [],
   "source": [
    "closest_prototypes_used_for_test = prototoypes_indices_values_per_point_test[:, 0, 0]\n",
    "closest_prototypes_used_for_adv = prototoypes_indices_values_per_point_adv[:, 0, 0]"
   ]
  },
  {
   "cell_type": "code",
   "execution_count": 103,
   "metadata": {},
   "outputs": [],
   "source": [
    "indices_where_adv_predictions_are_wrong = np.where(adv_predictions != true_labels)[0]"
   ]
  },
  {
   "cell_type": "code",
   "execution_count": 104,
   "metadata": {},
   "outputs": [
    {
     "data": {
      "text/plain": [
       "((282,), (1281,))"
      ]
     },
     "execution_count": 104,
     "metadata": {},
     "output_type": "execute_result"
    }
   ],
   "source": [
    "indices_where_test_and_adv_predictions_differ = np.where(\n",
    "    test_predictions != adv_predictions\n",
    ")[0]\n",
    "indices_where_test_and_adv_predictions_differ.shape, test_predictions.shape"
   ]
  },
  {
   "cell_type": "code",
   "execution_count": 109,
   "metadata": {},
   "outputs": [],
   "source": [
    "indices_where_prototypes_used_differ = np.where(\n",
    "    closest_prototypes_used_for_test != closest_prototypes_used_for_adv\n",
    ")[0]\n",
    "indices_where_prototypes_used_same = np.where(\n",
    "    closest_prototypes_used_for_test == closest_prototypes_used_for_adv\n",
    ")[0]"
   ]
  },
  {
   "cell_type": "code",
   "execution_count": 112,
   "metadata": {},
   "outputs": [
    {
     "name": "stdout",
     "output_type": "stream",
     "text": [
      "Ratio of the wrong predictions because of changed prototypes to the total number of wrong predictions: 0.7373737373737373\n"
     ]
    }
   ],
   "source": [
    "print(\n",
    "    \"Ratio of the wrong predictions because of changed prototypes to the total number of wrong predictions:\",\n",
    "    len(\n",
    "        np.intersect1d(\n",
    "            indices_where_prototypes_used_differ,\n",
    "            indices_where_adv_predictions_are_wrong,\n",
    "        )\n",
    "    )\n",
    "    / len(indices_where_adv_predictions_are_wrong),\n",
    ")"
   ]
  },
  {
   "cell_type": "code",
   "execution_count": 113,
   "metadata": {},
   "outputs": [],
   "source": [
    "distances_for_test_examples_with_unchanged_prototypes_wrong_predictions = (\n",
    "    prototoypes_indices_values_per_point_test[\n",
    "        np.intersect1d(\n",
    "            indices_where_prototypes_used_same, indices_where_adv_predictions_are_wrong\n",
    "        ),\n",
    "        0,\n",
    "        1,\n",
    "    ]\n",
    ")\n",
    "distances_for_adv_examples_with_unchanged_prototypes_wrong_predictions = (\n",
    "    prototoypes_indices_values_per_point_adv[\n",
    "        np.intersect1d(\n",
    "            indices_where_prototypes_used_same,\n",
    "            indices_where_adv_predictions_are_wrong,\n",
    "        ),\n",
    "        0,\n",
    "        1,\n",
    "    ]\n",
    ")"
   ]
  },
  {
   "cell_type": "code",
   "execution_count": 117,
   "metadata": {},
   "outputs": [
    {
     "data": {
      "text/plain": [
       "(78,)"
      ]
     },
     "execution_count": 117,
     "metadata": {},
     "output_type": "execute_result"
    }
   ],
   "source": [
    "distances_for_test_examples_with_unchanged_prototypes_wrong_predictions.shape"
   ]
  },
  {
   "cell_type": "code",
   "execution_count": 119,
   "metadata": {},
   "outputs": [
    {
     "name": "stdout",
     "output_type": "stream",
     "text": [
      "The number of instances in which the prototypes used are the same but the distance has increased:\n"
     ]
    },
    {
     "data": {
      "text/plain": [
       "0.44871794871794873"
      ]
     },
     "execution_count": 119,
     "metadata": {},
     "output_type": "execute_result"
    }
   ],
   "source": [
    "print(\n",
    "    \"The number of instances in which the prototypes used are the same but the distance has increased:\"\n",
    ")\n",
    "len(\n",
    "    np.where(\n",
    "        distances_for_test_examples_with_unchanged_prototypes_wrong_predictions\n",
    "        < distances_for_adv_examples_with_unchanged_prototypes_wrong_predictions\n",
    "    )[0]\n",
    ") / len(\n",
    "    np.intersect1d(\n",
    "        indices_where_prototypes_used_same,\n",
    "        indices_where_adv_predictions_are_wrong,\n",
    "    )\n",
    ")"
   ]
  },
  {
   "cell_type": "code",
   "execution_count": 22,
   "metadata": {},
   "outputs": [],
   "source": [
    "import torch\n",
    "import matplotlib.pyplot as plt"
   ]
  },
  {
   "cell_type": "code",
   "execution_count": 16,
   "metadata": {},
   "outputs": [],
   "source": [
    "all_prototypes = torch.load(f\"artifacts/{dataset}/{model_name}/all_protos.pt\")\n",
    "all_prototypes = torch.Tensor(all_prototypes.reshape(16, -1))"
   ]
  },
  {
   "cell_type": "code",
   "execution_count": 19,
   "metadata": {},
   "outputs": [],
   "source": [
    "pairwise_distances = torch.cdist(all_prototypes, all_prototypes, p=2)"
   ]
  },
  {
   "cell_type": "code",
   "execution_count": 29,
   "metadata": {},
   "outputs": [
    {
     "data": {
      "text/plain": [
       "['Specific locations, institutions',\n",
       " 'Geographical locations or infrastructure',\n",
       " 'Numerical entities',\n",
       " 'Location, facility, or organization',\n",
       " 'Organizations, Locations, or Facilities',\n",
       " 'Location, facility, or organization',\n",
       " 'Specific dates or years associated with events, births, etc',\n",
       " 'Entities or Proper Nouns',\n",
       " 'Historical Background in detail',\n",
       " 'Specific geographical locations or places',\n",
       " 'Unclear',\n",
       " 'Publication information / Journals, etc',\n",
       " 'Publications or Magazines',\n",
       " 'Unclear',\n",
       " 'Locations or Facilities',\n",
       " 'Events / races']"
      ]
     },
     "execution_count": 29,
     "metadata": {},
     "output_type": "execute_result"
    }
   ],
   "source": [
    "mapping_so_far = [\n",
    "    \"Specific locations, institutions\",\n",
    "    \"Geographical locations or infrastructure\",\n",
    "    \"Numerical entities\",\n",
    "    \"Location, facility, or organization\",\n",
    "    \"Organizations, Locations, or Facilities\",\n",
    "    \"Location, facility, or organization\",\n",
    "    \"Specific dates or years associated with events, births, etc\",\n",
    "    \"Entities or Proper Nouns\",\n",
    "    \"Historical Background in detail\",\n",
    "    \"Specific geographical locations or places\",\n",
    "    \"Unclear\",\n",
    "    \"Publication information / Journals, etc\",\n",
    "    \"Publications or Magazines\",\n",
    "    \"Unclear\",\n",
    "    \"Locations or Facilities\",\n",
    "    \"Events / races\",\n",
    "]\n",
    "mapping_so_far"
   ]
  },
  {
   "cell_type": "code",
   "execution_count": 33,
   "metadata": {},
   "outputs": [
    {
     "name": "stdout",
     "output_type": "stream",
     "text": [
      "prototype Specific locations, institutions 0\n",
      "the closest prototypes are:\n",
      "['Unclear', 'Location, facility, or organization']\n",
      "------------------\n",
      "prototype Geographical locations or infrastructure 1\n",
      "the closest prototypes are:\n",
      "['Unclear', 'Specific geographical locations or places']\n",
      "------------------\n",
      "prototype Numerical entities 2\n",
      "the closest prototypes are:\n",
      "['Unclear', 'Specific geographical locations or places']\n",
      "------------------\n",
      "prototype Location, facility, or organization 3\n",
      "the closest prototypes are:\n",
      "['Unclear', 'Specific geographical locations or places']\n",
      "------------------\n",
      "prototype Organizations, Locations, or Facilities 4\n",
      "the closest prototypes are:\n",
      "['Unclear', 'Specific geographical locations or places']\n",
      "------------------\n",
      "prototype Location, facility, or organization 5\n",
      "the closest prototypes are:\n",
      "['Specific geographical locations or places', 'Unclear']\n",
      "------------------\n",
      "prototype Specific dates or years associated with events, births, etc 6\n",
      "the closest prototypes are:\n",
      "['Unclear', 'Specific geographical locations or places']\n",
      "------------------\n",
      "prototype Entities or Proper Nouns 7\n",
      "the closest prototypes are:\n",
      "['Unclear', 'Specific geographical locations or places']\n",
      "------------------\n",
      "prototype Historical Background in detail 8\n",
      "the closest prototypes are:\n",
      "['Unclear', 'Specific geographical locations or places']\n",
      "------------------\n",
      "prototype Specific geographical locations or places 9\n",
      "the closest prototypes are:\n",
      "['Unclear', 'Specific dates or years associated with events, births, etc']\n",
      "------------------\n",
      "prototype Unclear 10\n",
      "the closest prototypes are:\n",
      "['Specific geographical locations or places', 'Location, facility, or organization']\n",
      "------------------\n",
      "prototype Publication information / Journals, etc 11\n",
      "the closest prototypes are:\n",
      "['Unclear', 'Specific geographical locations or places']\n",
      "------------------\n",
      "prototype Publications or Magazines 12\n",
      "the closest prototypes are:\n",
      "['Unclear', 'Specific geographical locations or places']\n",
      "------------------\n",
      "prototype Unclear 13\n",
      "the closest prototypes are:\n",
      "['Unclear', 'Location, facility, or organization']\n",
      "------------------\n",
      "prototype Locations or Facilities 14\n",
      "the closest prototypes are:\n",
      "['Unclear', 'Specific geographical locations or places']\n",
      "------------------\n",
      "prototype Events / races 15\n",
      "the closest prototypes are:\n",
      "['Unclear', 'Specific geographical locations or places']\n",
      "------------------\n"
     ]
    }
   ],
   "source": [
    "for i in range(16):\n",
    "    print(\"prototype\", mapping_so_far[i], i)\n",
    "    print(\"the closest prototypes are:\")\n",
    "    closest_prototypes = np.argsort(pairwise_distances[i].detach().numpy())[1:3]\n",
    "    print([mapping_so_far[x] for x in closest_prototypes])\n",
    "    print(\"------------------\")"
   ]
  },
  {
   "cell_type": "code",
   "execution_count": 25,
   "metadata": {},
   "outputs": [
    {
     "data": {
      "image/png": "[encoded data removed]",
      "text/plain": [
       "<Figure size 640x480 with 1 Axes>"
      ]
     },
     "metadata": {},
     "output_type": "display_data"
    }
   ],
   "source": [
    "plt.bar(np.arange(16), pairwise_distances[3])\n",
    "plt.xticks(np.arange(16))\n",
    "plt.show()"
   ]
  }
 ],
 "metadata": {
  "kernelspec": {
   "display_name": "base",
   "language": "python",
   "name": "python3"
  },
  "language_info": {
   "codemirror_mode": {
    "name": "ipython",
    "version": 3
   },
   "file_extension": ".py",
   "mimetype": "text/x-python",
   "name": "python",
   "nbconvert_exporter": "python",
   "pygments_lexer": "ipython3",
   "version": "3.9.13"
  },
  "orig_nbformat": 4
 },
 "nbformat": 4,
 "nbformat_minor": 2
}
