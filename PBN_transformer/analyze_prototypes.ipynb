{
 "cells": [
  {
   "cell_type": "code",
   "execution_count": 1,
   "metadata": {},
   "outputs": [
    {
     "name": "stderr",
     "output_type": "stream",
     "text": [
      "<frozen importlib._bootstrap>:228: RuntimeWarning: scipy._lib.messagestream.MessageStream size changed, may indicate binary incompatibility. Expected 56 from C header, got 64 from PyObject\n"
     ]
    }
   ],
   "source": [
    "import joblib\n",
    "import json\n",
    "import pandas as pd\n",
    "import numpy as np\n",
    "import utils\n",
    "from transformers import AutoTokenizer\n",
    "import torch\n",
    "import sys\n",
    "from collections import Counter\n",
    "\n",
    "sys.path.append(\"../datasets\")\n",
    "import configs"
   ]
  },
  {
   "cell_type": "code",
   "execution_count": 2,
   "metadata": {},
   "outputs": [],
   "source": [
    "dataset = \"dbpedia\"\n",
    "architecture = \"BART\"\n",
    "data_dir = f\"../datasets/{dataset}_dataset\"\n",
    "batch_size = 256\n",
    "model_name = f\"{dataset}_model_0.9_0.9_0.9\""
   ]
  },
  {
   "cell_type": "code",
   "execution_count": 3,
   "metadata": {},
   "outputs": [],
   "source": [
    "if architecture == \"BART\":\n",
    "    tokenizer = AutoTokenizer.from_pretrained(\"ModelTC/bart-base-mnli\")\n",
    "elif architecture == \"ELECTRA\":\n",
    "    tokenizer = AutoTokenizer.from_pretrained(\"google/electra-base-discriminator\")\n",
    "else:\n",
    "    print(f\"Invalid backbone architecture: {architecture}\")"
   ]
  },
  {
   "cell_type": "code",
   "execution_count": 4,
   "metadata": {},
   "outputs": [
    {
     "name": "stdout",
     "output_type": "stream",
     "text": [
      "Train data shape:  (24094, 2)\n"
     ]
    },
    {
     "data": {
      "application/vnd.jupyter.widget-view+json": {
       "model_id": "a5bf25d50e3b473d9d47831321a582f6",
       "version_major": 2,
       "version_minor": 0
      },
      "text/plain": [
       "Map:   0%|          | 0/24094 [00:00<?, ? examples/s]"
      ]
     },
     "metadata": {},
     "output_type": "display_data"
    },
    {
     "data": {
      "application/vnd.jupyter.widget-view+json": {
       "model_id": "5aeedfdb2f90440b96ea7985c4f1d5ea",
       "version_major": 2,
       "version_minor": 0
      },
      "text/plain": [
       "Map:   0%|          | 0/60794 [00:00<?, ? examples/s]"
      ]
     },
     "metadata": {},
     "output_type": "display_data"
    },
    {
     "data": {
      "application/vnd.jupyter.widget-view+json": {
       "model_id": "e31cd2361ace4ed8a54aed4919016fea",
       "version_major": 2,
       "version_minor": 0
      },
      "text/plain": [
       "Map:   0%|          | 0/1836 [00:00<?, ? examples/s]"
      ]
     },
     "metadata": {},
     "output_type": "display_data"
    },
    {
     "data": {
      "application/vnd.jupyter.widget-view+json": {
       "model_id": "8c26874411d24884a94d10775c5e2970",
       "version_major": 2,
       "version_minor": 0
      },
      "text/plain": [
       "Map:   0%|          | 0/1281 [00:00<?, ? examples/s]"
      ]
     },
     "metadata": {},
     "output_type": "display_data"
    },
    {
     "data": {
      "application/vnd.jupyter.widget-view+json": {
       "model_id": "c7a5f6b133ad48af81593f33e876b120",
       "version_major": 2,
       "version_minor": 0
      },
      "text/plain": [
       "Map:   0%|          | 0/1836 [00:00<?, ? examples/s]"
      ]
     },
     "metadata": {},
     "output_type": "display_data"
    },
    {
     "data": {
      "application/vnd.jupyter.widget-view+json": {
       "model_id": "4653a567c1de462cbfd97d98d57236b6",
       "version_major": 2,
       "version_minor": 0
      },
      "text/plain": [
       "Map:   0%|          | 0/1281 [00:00<?, ? examples/s]"
      ]
     },
     "metadata": {},
     "output_type": "display_data"
    },
    {
     "data": {
      "application/vnd.jupyter.widget-view+json": {
       "model_id": "0fc19491e9ff4d41956d39a64421214f",
       "version_major": 2,
       "version_minor": 0
      },
      "text/plain": [
       "Map:   0%|          | 0/800 [00:00<?, ? examples/s]"
      ]
     },
     "metadata": {},
     "output_type": "display_data"
    },
    {
     "data": {
      "application/vnd.jupyter.widget-view+json": {
       "model_id": "15f0807c77ff468fb4dfd1be29af202a",
       "version_major": 2,
       "version_minor": 0
      },
      "text/plain": [
       "Map:   0%|          | 0/800 [00:00<?, ? examples/s]"
      ]
     },
     "metadata": {},
     "output_type": "display_data"
    },
    {
     "data": {
      "application/vnd.jupyter.widget-view+json": {
       "model_id": "948b7810ed9b4800b6e0fa56ad2fcebc",
       "version_major": 2,
       "version_minor": 0
      },
      "text/plain": [
       "Map:   0%|          | 0/800 [00:00<?, ? examples/s]"
      ]
     },
     "metadata": {},
     "output_type": "display_data"
    },
    {
     "data": {
      "application/vnd.jupyter.widget-view+json": {
       "model_id": "9ceb5ea15cbb49dc9f8cc0731896da84",
       "version_major": 2,
       "version_minor": 0
      },
      "text/plain": [
       "Map:   0%|          | 0/800 [00:00<?, ? examples/s]"
      ]
     },
     "metadata": {},
     "output_type": "display_data"
    },
    {
     "data": {
      "application/vnd.jupyter.widget-view+json": {
       "model_id": "fdc8c1731b6942729e2eb0409cb03ff8",
       "version_major": 2,
       "version_minor": 0
      },
      "text/plain": [
       "Map:   0%|          | 0/1000 [00:00<?, ? examples/s]"
      ]
     },
     "metadata": {},
     "output_type": "display_data"
    },
    {
     "data": {
      "application/vnd.jupyter.widget-view+json": {
       "model_id": "b07e422aba8b4f118010f088fd4a4cd0",
       "version_major": 2,
       "version_minor": 0
      },
      "text/plain": [
       "Map:   0%|          | 0/1000 [00:00<?, ? examples/s]"
      ]
     },
     "metadata": {},
     "output_type": "display_data"
    }
   ],
   "source": [
    "all_datasets = utils.load_dataset(\n",
    "    data_dir=data_dir,\n",
    "    tokenizer=tokenizer,\n",
    "    max_length=configs.dataset_to_max_length[dataset],\n",
    ")\n",
    "\n",
    "all_dataloaders = {\n",
    "    dataset_name: torch.utils.data.DataLoader(\n",
    "        all_datasets[dataset_name],\n",
    "        batch_size=batch_size,\n",
    "        shuffle=False,\n",
    "        collate_fn=lambda batch: {\n",
    "            \"input_ids\": torch.LongTensor([i[\"input_ids\"] for i in batch]),\n",
    "            \"attention_mask\": torch.Tensor([i[\"attention_mask\"] for i in batch]),\n",
    "            \"label\": torch.LongTensor([i[\"label\"] for i in batch]),\n",
    "        },\n",
    "    )\n",
    "    for dataset_name in all_datasets.keys()\n",
    "    if dataset_name != \"train\"\n",
    "}"
   ]
  },
  {
   "cell_type": "code",
   "execution_count": 5,
   "metadata": {},
   "outputs": [],
   "source": [
    "bestk_train_data_per_proto = joblib.load(\n",
    "    f\"artifacts/{dataset}/{model_name}/bestk_train_data_per_proto.joblib\"\n",
    ")\n",
    "\n",
    "best_protos_per_traineg = joblib.load(\n",
    "    f\"artifacts/{dataset}/{model_name}/best_protos_per_traineg.joblib\"\n",
    ")"
   ]
  },
  {
   "cell_type": "code",
   "execution_count": 6,
   "metadata": {},
   "outputs": [],
   "source": [
    "num_protototypes = bestk_train_data_per_proto.indices.shape[1]\n",
    "num_training_examples = best_protos_per_traineg[0].shape[0]"
   ]
  },
  {
   "cell_type": "code",
   "execution_count": 8,
   "metadata": {},
   "outputs": [
    {
     "data": {
      "text/plain": [
       "(60794, 60794)"
      ]
     },
     "execution_count": 8,
     "metadata": {},
     "output_type": "execute_result"
    }
   ],
   "source": [
    "num_training_examples, all_datasets[\"test\"].__len__()"
   ]
  },
  {
   "cell_type": "code",
   "execution_count": 9,
   "metadata": {},
   "outputs": [
    {
     "data": {
      "text/plain": [
       "[(0, 31495),\n",
       " (2, 11574),\n",
       " (3, 5418),\n",
       " (1, 5300),\n",
       " (5, 4820),\n",
       " (6, 1483),\n",
       " (4, 444),\n",
       " (8, 198),\n",
       " (7, 62)]"
      ]
     },
     "execution_count": 9,
     "metadata": {},
     "output_type": "execute_result"
    }
   ],
   "source": [
    "sorted(\n",
    "    dict(Counter(all_datasets[\"test\"][\"label\"])).items(),\n",
    "    key=lambda x: x[1],\n",
    "    reverse=True,\n",
    ")"
   ]
  },
  {
   "cell_type": "code",
   "execution_count": 11,
   "metadata": {},
   "outputs": [
    {
     "name": "stdout",
     "output_type": "stream",
     "text": [
      "Prototype 0\n",
      "[0 0 0 0 2]\n",
      "[-3.86000395 -3.8521657  -3.84659767 -3.8372066  -3.80397987]\n",
      "------------------\n",
      "Prototype 1\n",
      "[1 0 3 0 0]\n",
      "[-3.84467077 -3.83111954 -3.79959321 -3.7980237  -3.76843357]\n",
      "------------------\n",
      "Prototype 2\n",
      "[0 5 0 6 0]\n",
      "[-3.84857941 -3.84825969 -3.83848882 -3.80562568 -3.41503525]\n",
      "------------------\n",
      "Prototype 3\n",
      "[0 5 0 1 2]\n",
      "[-3.85732651 -3.84428358 -3.84127998 -3.83616781 -3.80349612]\n",
      "------------------\n",
      "Prototype 4\n",
      "[0 2 1 0 0]\n",
      "[-3.84601855 -3.84326577 -3.82910824 -3.79504251 -3.78783989]\n",
      "------------------\n",
      "Prototype 5\n",
      "[0 0 0 3 1]\n",
      "[-3.84707737 -3.84617877 -3.83714962 -3.76204228 -3.41468787]\n",
      "------------------\n",
      "Prototype 6\n",
      "[5 0 5 2 3]\n",
      "[-3.85466504 -3.8411448  -3.83814526 -3.83546615 -3.79589629]\n",
      "------------------\n",
      "Prototype 7\n",
      "[2 3 0 5 3]\n",
      "[-3.84377384 -3.83243132 -3.8015604  -3.79333043 -3.78693724]\n",
      "------------------\n",
      "Prototype 8\n",
      "[3 0 3 0 4]\n",
      "[-3.84385467 -3.83619356 -3.82836747 -3.75422311 -3.41041017]\n",
      "------------------\n",
      "Prototype 9\n",
      "[0 3 2 2 1]\n",
      "[-3.84332275 -3.83947897 -3.83760405 -3.83436966 -3.79154563]\n",
      "------------------\n",
      "Prototype 10\n",
      "[0 2 1 0 0]\n",
      "[-3.8546629  -3.84238029 -3.83118653 -3.79939389 -3.79190326]\n",
      "------------------\n",
      "Prototype 11\n",
      "[0 0 0 1 0]\n",
      "[-3.83597755 -3.82622051 -3.78159857 -3.7518096  -3.40904832]\n",
      "------------------\n",
      "Prototype 12\n",
      "[0 0 2 0 0]\n",
      "[-3.8430779  -3.84199905 -3.83722067 -3.8341887  -3.79016542]\n",
      "------------------\n",
      "Prototype 13\n",
      "[0 0 0 2 1]\n",
      "[-3.85315895 -3.84000993 -3.83940005 -3.83057642 -3.79926968]\n",
      "------------------\n",
      "Prototype 14\n",
      "[0 2 5 6 5]\n",
      "[-3.82614231 -3.79089618 -3.77772999 -3.75113773 -3.40819836]\n",
      "------------------\n",
      "Prototype 15\n",
      "[0 0 5 2 0]\n",
      "[-3.84193897 -3.84145379 -3.83664918 -3.83572006 -3.79014158]\n",
      "------------------\n"
     ]
    }
   ],
   "source": [
    "indices = bestk_train_data_per_proto.indices.reshape(num_protototypes, -1).tolist()\n",
    "values = bestk_train_data_per_proto.values.reshape(num_protototypes, -1).tolist()\n",
    "\n",
    "indices_values_for_all_prototypes = []\n",
    "for i in range(num_protototypes):\n",
    "    indices_values_per_prototype = list(zip(indices[i], values[i]))\n",
    "    indices_values_per_prototype.sort(key=lambda x: x[1], reverse=False)\n",
    "    indices_values_for_all_prototypes.append(indices_values_per_prototype)\n",
    "\n",
    "for i in range(num_protototypes):\n",
    "    print(f\"Prototype {i}\")\n",
    "    training_examples_indices = np.array(\n",
    "        [x[0] for x in indices_values_for_all_prototypes[i]]\n",
    "    )\n",
    "    training_examples_distances = np.array(\n",
    "        [x[1] for x in indices_values_for_all_prototypes[i]]\n",
    "    )\n",
    "    print(np.array(all_datasets[\"test\"][\"label\"])[training_examples_indices])\n",
    "    print(training_examples_distances)\n",
    "    print(\"------------------\")"
   ]
  },
  {
   "cell_type": "code",
   "execution_count": 9,
   "metadata": {},
   "outputs": [],
   "source": [
    "best_protos_per_testeg = joblib.load(\n",
    "    f\"artifacts/{dataset}/{model_name}/best_protos_per_testeg.joblib\"\n",
    ")"
   ]
  },
  {
   "cell_type": "code",
   "execution_count": 10,
   "metadata": {},
   "outputs": [
    {
     "data": {
      "text/plain": [
       "dict_keys(['test_textfooler', 'test_textbugger', 'adv_textfooler', 'adv_textbugger', 'test_textfooler_protocnn', 'adv_textfooler_protocnn', 'test_textbugger_protocnn', 'adv_textbugger_protocnn', 'adv_paraphrased', 'test_paraphrased'])"
      ]
     },
     "execution_count": 10,
     "metadata": {},
     "output_type": "execute_result"
    }
   ],
   "source": [
    "best_protos_per_testeg.keys()"
   ]
  },
  {
   "cell_type": "code",
   "execution_count": 12,
   "metadata": {},
   "outputs": [],
   "source": [
    "test_dataset = \"test_textbugger\"\n",
    "num_examples = len(all_datasets[test_dataset])\n",
    "\n",
    "\n",
    "indices = best_protos_per_testeg[test_dataset][0].tolist()\n",
    "values = best_protos_per_testeg[test_dataset][1].tolist()\n",
    "\n",
    "prototoypes_indices_values_per_point = []\n",
    "for i in range(num_examples):\n",
    "    indices_values_per_training_example = list(zip(indices[i], values[i]))\n",
    "    indices_values_per_training_example.sort(key=lambda x: x[1], reverse=False)\n",
    "    prototoypes_indices_values_per_point.append(indices_values_per_training_example)"
   ]
  },
  {
   "cell_type": "code",
   "execution_count": 13,
   "metadata": {},
   "outputs": [
    {
     "data": {
      "text/plain": [
       "[(15, -3.8186159133911133),\n",
       " (10, -0.07565689831972122),\n",
       " (1, 0.017503520473837852),\n",
       " (5, 0.08167710900306702),\n",
       " (9, 0.1278260201215744)]"
      ]
     },
     "execution_count": 13,
     "metadata": {},
     "output_type": "execute_result"
    }
   ],
   "source": [
    "prototoypes_indices_values_per_training_example[0]"
   ]
  }
 ],
 "metadata": {
  "kernelspec": {
   "display_name": "base",
   "language": "python",
   "name": "python3"
  },
  "language_info": {
   "codemirror_mode": {
    "name": "ipython",
    "version": 3
   },
   "file_extension": ".py",
   "mimetype": "text/x-python",
   "name": "python",
   "nbconvert_exporter": "python",
   "pygments_lexer": "ipython3",
   "version": "3.9.13"
  },
  "orig_nbformat": 4
 },
 "nbformat": 4,
 "nbformat_minor": 2
}
