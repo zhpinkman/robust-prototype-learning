{
 "cells": [
  {
   "cell_type": "code",
   "execution_count": 1,
   "metadata": {},
   "outputs": [
    {
     "ename": "FileNotFoundError",
     "evalue": "[Errno 2] No such file or directory: 'artifacts/dbpedia/dbpedia_model/best_protos_per_testeg.joblib'",
     "output_type": "error",
     "traceback": [
      "\u001b[0;31m---------------------------------------------------------------------------\u001b[0m",
      "\u001b[0;31mFileNotFoundError\u001b[0m                         Traceback (most recent call last)",
      "\u001b[0;32m/tmp/ipykernel_148041/2432740567.py\u001b[0m in \u001b[0;36m<module>\u001b[0;34m\u001b[0m\n\u001b[1;32m      7\u001b[0m \u001b[0moutput_file_name\u001b[0m \u001b[0;34m=\u001b[0m \u001b[0;34mf\"artifacts/{dataset}/{model_name}/{dataset}_examples_with_closest_protos_{attack}.csv\"\u001b[0m\u001b[0;34m\u001b[0m\u001b[0;34m\u001b[0m\u001b[0m\n\u001b[1;32m      8\u001b[0m data = joblib.load(\n\u001b[0;32m----> 9\u001b[0;31m     \u001b[0mopen\u001b[0m\u001b[0;34m(\u001b[0m\u001b[0;34mf\"artifacts/{dataset}/{model_name}/best_protos_per_testeg.joblib\"\u001b[0m\u001b[0;34m,\u001b[0m \u001b[0;34m\"rb\"\u001b[0m\u001b[0;34m)\u001b[0m\u001b[0;34m\u001b[0m\u001b[0;34m\u001b[0m\u001b[0m\n\u001b[0m\u001b[1;32m     10\u001b[0m )\n",
      "\u001b[0;31mFileNotFoundError\u001b[0m: [Errno 2] No such file or directory: 'artifacts/dbpedia/dbpedia_model/best_protos_per_testeg.joblib'"
     ]
    }
   ],
   "source": [
    "import joblib\n",
    "import pandas as pd\n",
    "\n",
    "dataset = \"dbpedia\"\n",
    "model_name = f\"{dataset}_model\"\n",
    "attack = \"paraphrased\"\n",
    "output_file_name = f\"artifacts/{dataset}/{model_name}/{dataset}_examples_with_closest_protos_{attack}.csv\"\n",
    "data = joblib.load(\n",
    "    open(f\"artifacts/{dataset}/{model_name}/best_protos_per_testeg.joblib\", \"rb\")\n",
    ")"
   ]
  },
  {
   "cell_type": "code",
   "execution_count": 125,
   "metadata": {},
   "outputs": [
    {
     "data": {
      "text/html": [
       "<div>\n",
       "<style scoped>\n",
       "    .dataframe tbody tr th:only-of-type {\n",
       "        vertical-align: middle;\n",
       "    }\n",
       "\n",
       "    .dataframe tbody tr th {\n",
       "        vertical-align: top;\n",
       "    }\n",
       "\n",
       "    .dataframe thead th {\n",
       "        text-align: right;\n",
       "    }\n",
       "</style>\n",
       "<table border=\"1\" class=\"dataframe\">\n",
       "  <thead>\n",
       "    <tr style=\"text-align: right;\">\n",
       "      <th></th>\n",
       "      <th>text</th>\n",
       "      <th>label</th>\n",
       "    </tr>\n",
       "  </thead>\n",
       "  <tbody>\n",
       "    <tr>\n",
       "      <th>0</th>\n",
       "      <td>Luis de Quixano y Font served as Mayor of Ponc...</td>\n",
       "      <td>0</td>\n",
       "    </tr>\n",
       "    <tr>\n",
       "      <th>1</th>\n",
       "      <td>In the 1936 college football season, Marquette...</td>\n",
       "      <td>6</td>\n",
       "    </tr>\n",
       "    <tr>\n",
       "      <th>2</th>\n",
       "      <td>Victorville's KVTR is a commercial radio stati...</td>\n",
       "      <td>0</td>\n",
       "    </tr>\n",
       "    <tr>\n",
       "      <th>3</th>\n",
       "      <td>The Paulinerkirche was a church in Leipzig tha...</td>\n",
       "      <td>2</td>\n",
       "    </tr>\n",
       "    <tr>\n",
       "      <th>4</th>\n",
       "      <td>Moskovia Airlines, located in Zhukovsky, Mosco...</td>\n",
       "      <td>0</td>\n",
       "    </tr>\n",
       "  </tbody>\n",
       "</table>\n",
       "</div>"
      ],
      "text/plain": [
       "                                                text  label\n",
       "0  Luis de Quixano y Font served as Mayor of Ponc...      0\n",
       "1  In the 1936 college football season, Marquette...      6\n",
       "2  Victorville's KVTR is a commercial radio stati...      0\n",
       "3  The Paulinerkirche was a church in Leipzig tha...      2\n",
       "4  Moskovia Airlines, located in Zhukovsky, Mosco...      0"
      ]
     },
     "execution_count": 125,
     "metadata": {},
     "output_type": "execute_result"
    }
   ],
   "source": [
    "original_data_test = pd.read_csv(f\"../datasets/{dataset}_dataset/test_{attack}.csv\")\n",
    "original_data_adv = pd.read_csv(f\"../datasets/{dataset}_dataset/adv_{attack}.csv\")\n",
    "\n",
    "original_data_adv.head()"
   ]
  },
  {
   "cell_type": "code",
   "execution_count": 126,
   "metadata": {},
   "outputs": [],
   "source": [
    "test_tb, adv_tb = data[f\"test_{attack}\"], data[f\"adv_{attack}\"]\n",
    "test_protos, test_dist = test_tb[0], test_tb[1]\n",
    "adv_protos, adv_dist = adv_tb[0], adv_tb[1]"
   ]
  },
  {
   "cell_type": "code",
   "execution_count": 127,
   "metadata": {},
   "outputs": [],
   "source": [
    "top_test_protos = test_protos[:, 0]\n",
    "top_test_protos_dist = test_dist[:, 0]\n",
    "\n",
    "top_adv_protos = adv_protos[:, 0]\n",
    "top_adv_protos_dist = adv_dist[:, 0]"
   ]
  },
  {
   "cell_type": "code",
   "execution_count": 128,
   "metadata": {},
   "outputs": [],
   "source": [
    "original_data_test[\"closest_prototype\"] = top_test_protos\n",
    "original_data_test[\"closest_prototype_dist\"] = top_test_protos_dist\n",
    "original_data_test[\"permuted_text\"] = original_data_adv[\"text\"]\n",
    "original_data_test[\"permuted_closest_prototype\"] = top_adv_protos\n",
    "original_data_test[\"permuted_closest_prototype_dist\"] = top_adv_protos_dist"
   ]
  },
  {
   "cell_type": "code",
   "execution_count": 129,
   "metadata": {},
   "outputs": [
    {
     "data": {
      "text/html": [
       "<div>\n",
       "<style scoped>\n",
       "    .dataframe tbody tr th:only-of-type {\n",
       "        vertical-align: middle;\n",
       "    }\n",
       "\n",
       "    .dataframe tbody tr th {\n",
       "        vertical-align: top;\n",
       "    }\n",
       "\n",
       "    .dataframe thead th {\n",
       "        text-align: right;\n",
       "    }\n",
       "</style>\n",
       "<table border=\"1\" class=\"dataframe\">\n",
       "  <thead>\n",
       "    <tr style=\"text-align: right;\">\n",
       "      <th></th>\n",
       "      <th>text</th>\n",
       "      <th>label</th>\n",
       "      <th>closest_prototype</th>\n",
       "      <th>closest_prototype_dist</th>\n",
       "      <th>permuted_text</th>\n",
       "      <th>permuted_closest_prototype</th>\n",
       "      <th>permuted_closest_prototype_dist</th>\n",
       "      <th>prototype_changed</th>\n",
       "    </tr>\n",
       "  </thead>\n",
       "  <tbody>\n",
       "    <tr>\n",
       "      <th>0</th>\n",
       "      <td>Luis de Quixano y Font was Mayor of Ponce, Pue...</td>\n",
       "      <td>0</td>\n",
       "      <td>8</td>\n",
       "      <td>-3.805425</td>\n",
       "      <td>Luis de Quixano y Font served as Mayor of Ponc...</td>\n",
       "      <td>4</td>\n",
       "      <td>-3.824329</td>\n",
       "      <td>True</td>\n",
       "    </tr>\n",
       "    <tr>\n",
       "      <th>1</th>\n",
       "      <td>The 1936 Marquette Golden Avalanche football t...</td>\n",
       "      <td>6</td>\n",
       "      <td>9</td>\n",
       "      <td>-3.659856</td>\n",
       "      <td>In the 1936 college football season, Marquette...</td>\n",
       "      <td>9</td>\n",
       "      <td>-3.661452</td>\n",
       "      <td>False</td>\n",
       "    </tr>\n",
       "    <tr>\n",
       "      <th>2</th>\n",
       "      <td>KVTR is a commercial radio station in Victorvi...</td>\n",
       "      <td>0</td>\n",
       "      <td>5</td>\n",
       "      <td>-3.817369</td>\n",
       "      <td>Victorville's KVTR is a commercial radio stati...</td>\n",
       "      <td>10</td>\n",
       "      <td>-3.345438</td>\n",
       "      <td>True</td>\n",
       "    </tr>\n",
       "    <tr>\n",
       "      <th>3</th>\n",
       "      <td>The Paulinerkirche was a church on the Augustu...</td>\n",
       "      <td>2</td>\n",
       "      <td>2</td>\n",
       "      <td>-3.776621</td>\n",
       "      <td>The Paulinerkirche was a church in Leipzig tha...</td>\n",
       "      <td>1</td>\n",
       "      <td>-3.803165</td>\n",
       "      <td>True</td>\n",
       "    </tr>\n",
       "    <tr>\n",
       "      <th>4</th>\n",
       "      <td>Moskovia Airlines (Russian: Авиакомпания \\\"Мос...</td>\n",
       "      <td>0</td>\n",
       "      <td>8</td>\n",
       "      <td>-3.808982</td>\n",
       "      <td>Moskovia Airlines, located in Zhukovsky, Mosco...</td>\n",
       "      <td>10</td>\n",
       "      <td>-3.346972</td>\n",
       "      <td>True</td>\n",
       "    </tr>\n",
       "  </tbody>\n",
       "</table>\n",
       "</div>"
      ],
      "text/plain": [
       "                                                text  label  \\\n",
       "0  Luis de Quixano y Font was Mayor of Ponce, Pue...      0   \n",
       "1  The 1936 Marquette Golden Avalanche football t...      6   \n",
       "2  KVTR is a commercial radio station in Victorvi...      0   \n",
       "3  The Paulinerkirche was a church on the Augustu...      2   \n",
       "4  Moskovia Airlines (Russian: Авиакомпания \\\"Мос...      0   \n",
       "\n",
       "   closest_prototype  closest_prototype_dist  \\\n",
       "0                  8               -3.805425   \n",
       "1                  9               -3.659856   \n",
       "2                  5               -3.817369   \n",
       "3                  2               -3.776621   \n",
       "4                  8               -3.808982   \n",
       "\n",
       "                                       permuted_text  \\\n",
       "0  Luis de Quixano y Font served as Mayor of Ponc...   \n",
       "1  In the 1936 college football season, Marquette...   \n",
       "2  Victorville's KVTR is a commercial radio stati...   \n",
       "3  The Paulinerkirche was a church in Leipzig tha...   \n",
       "4  Moskovia Airlines, located in Zhukovsky, Mosco...   \n",
       "\n",
       "   permuted_closest_prototype  permuted_closest_prototype_dist  \\\n",
       "0                           4                        -3.824329   \n",
       "1                           9                        -3.661452   \n",
       "2                          10                        -3.345438   \n",
       "3                           1                        -3.803165   \n",
       "4                          10                        -3.346972   \n",
       "\n",
       "   prototype_changed  \n",
       "0               True  \n",
       "1              False  \n",
       "2               True  \n",
       "3               True  \n",
       "4               True  "
      ]
     },
     "execution_count": 129,
     "metadata": {},
     "output_type": "execute_result"
    }
   ],
   "source": [
    "original_data_test[\"prototype_changed\"] = (\n",
    "    original_data_test[\"closest_prototype\"]\n",
    "    != original_data_test[\"permuted_closest_prototype\"]\n",
    ")\n",
    "original_data_test.head()"
   ]
  },
  {
   "cell_type": "code",
   "execution_count": 130,
   "metadata": {},
   "outputs": [],
   "source": [
    "original_data_test.to_csv(output_file_name, index=False)"
   ]
  }
 ],
 "metadata": {
  "kernelspec": {
   "display_name": "prototex",
   "language": "python",
   "name": "python3"
  },
  "language_info": {
   "codemirror_mode": {
    "name": "ipython",
    "version": 3
   },
   "file_extension": ".py",
   "mimetype": "text/x-python",
   "name": "python",
   "nbconvert_exporter": "python",
   "pygments_lexer": "ipython3",
   "version": "3.9.13"
  },
  "orig_nbformat": 4
 },
 "nbformat": 4,
 "nbformat_minor": 2
}
