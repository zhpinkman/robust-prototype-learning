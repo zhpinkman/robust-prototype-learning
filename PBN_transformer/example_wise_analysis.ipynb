{
 "cells": [
  {
   "cell_type": "code",
   "execution_count": 4,
   "metadata": {},
   "outputs": [],
   "source": [
    "import pandas as pd\n",
    "import joblib\n",
    "import numpy as np\n",
    "import utils\n",
    "import configs\n",
    "from transformers import AutoTokenizer\n"
   ]
  },
  {
   "cell_type": "code",
   "execution_count": 5,
   "metadata": {},
   "outputs": [
    {
     "name": "stdout",
     "output_type": "stream",
     "text": [
      "Train data shape:  (24094, 2)\n"
     ]
    },
    {
     "data": {
      "application/vnd.jupyter.widget-view+json": {
       "model_id": "8088a06b60674e95ba20d9ffe49849c3",
       "version_major": 2,
       "version_minor": 0
      },
      "text/plain": [
       "Map:   0%|          | 0/24094 [00:00<?, ? examples/s]"
      ]
     },
     "metadata": {},
     "output_type": "display_data"
    },
    {
     "data": {
      "application/vnd.jupyter.widget-view+json": {
       "model_id": "d49f18adf6d24ecd9458b6df48405bfd",
       "version_major": 2,
       "version_minor": 0
      },
      "text/plain": [
       "Map:   0%|          | 0/1000 [00:00<?, ? examples/s]"
      ]
     },
     "metadata": {},
     "output_type": "display_data"
    },
    {
     "data": {
      "application/vnd.jupyter.widget-view+json": {
       "model_id": "27d04d50c2da4da184925ece858ca25f",
       "version_major": 2,
       "version_minor": 0
      },
      "text/plain": [
       "Map:   0%|          | 0/1281 [00:00<?, ? examples/s]"
      ]
     },
     "metadata": {},
     "output_type": "display_data"
    },
    {
     "data": {
      "application/vnd.jupyter.widget-view+json": {
       "model_id": "e2d0ac09070640b7b5fc7710a303e15c",
       "version_major": 2,
       "version_minor": 0
      },
      "text/plain": [
       "Map:   0%|          | 0/800 [00:00<?, ? examples/s]"
      ]
     },
     "metadata": {},
     "output_type": "display_data"
    },
    {
     "data": {
      "application/vnd.jupyter.widget-view+json": {
       "model_id": "f3a0a672180a487e9c21d4ae50bbb3ba",
       "version_major": 2,
       "version_minor": 0
      },
      "text/plain": [
       "Map:   0%|          | 0/1836 [00:00<?, ? examples/s]"
      ]
     },
     "metadata": {},
     "output_type": "display_data"
    },
    {
     "data": {
      "application/vnd.jupyter.widget-view+json": {
       "model_id": "bb68c62dbb82490993cf344c9e541689",
       "version_major": 2,
       "version_minor": 0
      },
      "text/plain": [
       "Map:   0%|          | 0/800 [00:00<?, ? examples/s]"
      ]
     },
     "metadata": {},
     "output_type": "display_data"
    },
    {
     "data": {
      "application/vnd.jupyter.widget-view+json": {
       "model_id": "4c4171752e254befbc33e72c2406812c",
       "version_major": 2,
       "version_minor": 0
      },
      "text/plain": [
       "Map:   0%|          | 0/60794 [00:00<?, ? examples/s]"
      ]
     },
     "metadata": {},
     "output_type": "display_data"
    },
    {
     "data": {
      "application/vnd.jupyter.widget-view+json": {
       "model_id": "f500ec28c52b4dbfb6b1800bfd747820",
       "version_major": 2,
       "version_minor": 0
      },
      "text/plain": [
       "Map:   0%|          | 0/1000 [00:00<?, ? examples/s]"
      ]
     },
     "metadata": {},
     "output_type": "display_data"
    },
    {
     "data": {
      "application/vnd.jupyter.widget-view+json": {
       "model_id": "a7167be68e8f492fa028012286ff6e6d",
       "version_major": 2,
       "version_minor": 0
      },
      "text/plain": [
       "Map:   0%|          | 0/1281 [00:00<?, ? examples/s]"
      ]
     },
     "metadata": {},
     "output_type": "display_data"
    },
    {
     "data": {
      "application/vnd.jupyter.widget-view+json": {
       "model_id": "83ac9fa211d44d6a90a0085105908b54",
       "version_major": 2,
       "version_minor": 0
      },
      "text/plain": [
       "Map:   0%|          | 0/800 [00:00<?, ? examples/s]"
      ]
     },
     "metadata": {},
     "output_type": "display_data"
    },
    {
     "data": {
      "application/vnd.jupyter.widget-view+json": {
       "model_id": "2aab2199515a4d3a81525a9b7e71507c",
       "version_major": 2,
       "version_minor": 0
      },
      "text/plain": [
       "Map:   0%|          | 0/1836 [00:00<?, ? examples/s]"
      ]
     },
     "metadata": {},
     "output_type": "display_data"
    },
    {
     "data": {
      "application/vnd.jupyter.widget-view+json": {
       "model_id": "c423a142589040b585bf4994d7f6863f",
       "version_major": 2,
       "version_minor": 0
      },
      "text/plain": [
       "Map:   0%|          | 0/800 [00:00<?, ? examples/s]"
      ]
     },
     "metadata": {},
     "output_type": "display_data"
    },
    {
     "data": {
      "text/plain": [
       "dict_keys(['test_textfooler', 'test_textbugger', 'adv_textfooler', 'adv_textbugger', 'test_textfooler_protocnn', 'adv_textfooler_protocnn', 'test_textbugger_protocnn', 'adv_textbugger_protocnn', 'adv_paraphrased', 'test_paraphrased'])"
      ]
     },
     "execution_count": 5,
     "metadata": {},
     "output_type": "execute_result"
    }
   ],
   "source": [
    "dataset = \"dbpedia\"\n",
    "architecture = \"BART\"\n",
    "data_dir = f\"../datasets/{dataset}_dataset\"\n",
    "batch_size = 256\n",
    "model_name = f\"{dataset}_model\"\n",
    "attack = \"textbugger\"\n",
    "output_file_name = f\"artifacts/{dataset}/{model_name}/{dataset}_examples_with_closest_protos_{attack}.csv\"\n",
    "\n",
    "if architecture == \"BART\":\n",
    "    tokenizer = AutoTokenizer.from_pretrained(\"ModelTC/bart-base-mnli\")\n",
    "elif architecture == \"ELECTRA\":\n",
    "    tokenizer = AutoTokenizer.from_pretrained(\"google/electra-base-discriminator\")\n",
    "else:\n",
    "    print(f\"Invalid backbone architecture: {architecture}\")\n",
    "\n",
    "all_datasets = utils.load_dataset(\n",
    "    data_dir=data_dir,\n",
    "    tokenizer=tokenizer,\n",
    "    max_length=configs.dataset_to_max_length[dataset],\n",
    ")\n",
    "\n",
    "best_protos_per_testeg = joblib.load(\n",
    "    f\"artifacts/{dataset}/{model_name}/best_protos_per_testeg.joblib\"\n",
    ")\n",
    "\n",
    "best_protos_per_testeg.keys()"
   ]
  },
  {
   "cell_type": "code",
   "execution_count": 6,
   "metadata": {},
   "outputs": [],
   "source": [
    "\n",
    "test_dataset = f\"test_{attack}\"\n",
    "num_examples = len(all_datasets[test_dataset])\n",
    "\n",
    "\n",
    "indices = best_protos_per_testeg[test_dataset][0].tolist()\n",
    "values = best_protos_per_testeg[test_dataset][1].tolist()\n",
    "\n",
    "prototoypes_indices_values_per_point = []\n",
    "for i in range(num_examples):\n",
    "    indices_values_per_training_example = list(zip(indices[i], values[i]))\n",
    "    indices_values_per_training_example.sort(key=lambda x: x[1], reverse=False)\n",
    "    prototoypes_indices_values_per_point.append(indices_values_per_training_example)"
   ]
  },
  {
   "cell_type": "code",
   "execution_count": 7,
   "metadata": {},
   "outputs": [],
   "source": [
    "top_protos = np.array(prototoypes_indices_values_per_point)[:, 0, 0]\n",
    "top_dist = np.array(prototoypes_indices_values_per_point)[:, 0, 1]"
   ]
  },
  {
   "cell_type": "code",
   "execution_count": 8,
   "metadata": {},
   "outputs": [],
   "source": [
    "test_dataset = f\"adv_{attack}\"\n",
    "num_examples = len(all_datasets[test_dataset])\n",
    "\n",
    "\n",
    "indices = best_protos_per_testeg[test_dataset][0].tolist()\n",
    "values = best_protos_per_testeg[test_dataset][1].tolist()\n",
    "\n",
    "adv_prototoypes_indices_values_per_point = []\n",
    "for i in range(num_examples):\n",
    "    indices_values_per_training_example = list(zip(indices[i], values[i]))\n",
    "    indices_values_per_training_example.sort(key=lambda x: x[1], reverse=False)\n",
    "    adv_prototoypes_indices_values_per_point.append(indices_values_per_training_example)"
   ]
  },
  {
   "cell_type": "code",
   "execution_count": 9,
   "metadata": {},
   "outputs": [],
   "source": [
    "top_protos_adv = np.array(adv_prototoypes_indices_values_per_point)[:, 0, 0]\n",
    "top_dist_adv = np.array(adv_prototoypes_indices_values_per_point)[:, 0, 1]"
   ]
  },
  {
   "cell_type": "code",
   "execution_count": 10,
   "metadata": {},
   "outputs": [],
   "source": [
    "clean_text, corrupted_text, labels = [], [], []\n",
    "for i, j in zip(all_datasets[f\"test_{attack}\"], all_datasets[f\"adv_{attack}\"]):\n",
    "    clean_text.append(i[\"text\"])\n",
    "    corrupted_text.append(j[\"text\"])\n",
    "    labels.append(i[\"label\"])"
   ]
  },
  {
   "cell_type": "code",
   "execution_count": 11,
   "metadata": {},
   "outputs": [],
   "source": [
    "df = pd.DataFrame({\"text\": clean_text, \"label\": labels, \"closest_prototype\": top_protos, \"closest_prototype_dist\": top_dist, \"permuted_text\": corrupted_text, \"permuted_closest_prototype\": top_protos_adv, \"permuted_closest_prototype_dist\": top_dist_adv})\n",
    "df[\"prototype_changed\"] = df[\"closest_prototype\"] != df[\"permuted_closest_prototype\"]\n",
    "\n",
    "df.to_csv(output_file_name, index=False)"
   ]
  },
  {
   "cell_type": "code",
   "execution_count": null,
   "metadata": {},
   "outputs": [],
   "source": []
  }
 ],
 "metadata": {
  "kernelspec": {
   "display_name": "prototex",
   "language": "python",
   "name": "python3"
  },
  "language_info": {
   "codemirror_mode": {
    "name": "ipython",
    "version": 3
   },
   "file_extension": ".py",
   "mimetype": "text/x-python",
   "name": "python",
   "nbconvert_exporter": "python",
   "pygments_lexer": "ipython3",
   "version": "3.9.16"
  },
  "orig_nbformat": 4
 },
 "nbformat": 4,
 "nbformat_minor": 2
}
