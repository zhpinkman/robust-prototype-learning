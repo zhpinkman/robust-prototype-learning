{
 "cells": [
  {
   "cell_type": "code",
   "execution_count": 1,
   "metadata": {},
   "outputs": [
    {
     "name": "stdout",
     "output_type": "stream",
     "text": [
      "81\n",
      "93\n",
      "0\n",
      "0\n",
      "0\n",
      "0\n",
      "0\n",
      "0\n",
      "0\n",
      "0\n"
     ]
    },
    {
     "name": "stderr",
     "output_type": "stream",
     "text": [
      "/tmp/ipykernel_132399/1469429060.py:14: UserWarning: *c* argument looks like a single numeric RGB or RGBA sequence, which should be avoided as value-mapping will have precedence in case its length matches with *x* & *y*.  Please use the *color* keyword-argument or provide a 2D array with a single row if you intend to specify the same RGB or RGBA value for all points.\n",
      "  plt.scatter(\n"
     ]
    },
    {
     "data": {
      "image/png": "[encoded data removed]",
      "text/plain": [
       "<Figure size 432x288 with 1 Axes>"
      ]
     },
     "metadata": {
      "needs_background": "light"
     },
     "output_type": "display_data"
    }
   ],
   "source": [
    "import numpy as np\n",
    "import matplotlib.pyplot as plt\n",
    "from matplotlib.colors import ListedColormap\n",
    "\n",
    "train_labels = np.load(\"labels.npy\")\n",
    "train_features = np.load(\"features.npy\")\n",
    "\n",
    "X = train_features\n",
    "X = X / max(X.ravel())\n",
    "y = train_labels\n",
    "for k in range(0, 10):\n",
    "    print(len(np.where(y == k)[0]))\n",
    "for i, j in enumerate(np.unique(y)):\n",
    "    plt.scatter(\n",
    "        X[y == j, 0],\n",
    "        X[y == j, 1],\n",
    "        c=ListedColormap(\n",
    "            (\n",
    "                \"black\",\n",
    "                \"red\",\n",
    "                \"gray\",\n",
    "                \"yellow\",\n",
    "                \"silver\",\n",
    "                \"blue\",\n",
    "                \"magenta\",\n",
    "                \"brown\",\n",
    "                \"purple\",\n",
    "                \"orange\",\n",
    "            )\n",
    "        )(i),\n",
    "        label=j,\n",
    "    )\n",
    "plt.xlabel(\"X1\")\n",
    "plt.ylabel(\"X2\")\n",
    "plt.legend()\n",
    "plt.savefig(\"scatter_plot.png\")\n"
   ]
  }
 ],
 "metadata": {
  "kernelspec": {
   "display_name": "base",
   "language": "python",
   "name": "python3"
  },
  "language_info": {
   "codemirror_mode": {
    "name": "ipython",
    "version": 3
   },
   "file_extension": ".py",
   "mimetype": "text/x-python",
   "name": "python",
   "nbconvert_exporter": "python",
   "pygments_lexer": "ipython3",
   "version": "3.9.16"
  },
  "orig_nbformat": 4
 },
 "nbformat": 4,
 "nbformat_minor": 2
}
