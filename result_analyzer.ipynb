{
 "cells": [
  {
   "cell_type": "code",
   "execution_count": 37,
   "metadata": {},
   "outputs": [],
   "source": [
    "import pandas as pd\n",
    "\n",
    "df = pd.read_csv(\"Results - Sheet1.csv\")"
   ]
  },
  {
   "cell_type": "code",
   "execution_count": 38,
   "metadata": {},
   "outputs": [
    {
     "data": {
      "text/plain": [
       "Index(['Model', 'comments', 'dataset', 'dataset type', 'Precision Performance',\n",
       "       'Recall Performance', 'F1 performance'],\n",
       "      dtype='object')"
      ]
     },
     "execution_count": 38,
     "metadata": {},
     "output_type": "execute_result"
    }
   ],
   "source": [
    "df.columns"
   ]
  },
  {
   "cell_type": "code",
   "execution_count": 39,
   "metadata": {},
   "outputs": [],
   "source": [
    "df[[\"Model\", \"comments\", \"dataset\", \"dataset type\"]] = df[\n",
    "    [\"Model\", \"comments\", \"dataset\", \"dataset type\"]\n",
    "].fillna(\"\")\n",
    "df[[\"Precision Performance\", \"Recall Performance\", \"F1 performance\"]] = df[\n",
    "    [\"Precision Performance\", \"Recall Performance\", \"F1 performance\"]\n",
    "].fillna(0)"
   ]
  },
  {
   "cell_type": "code",
   "execution_count": 40,
   "metadata": {},
   "outputs": [
    {
     "name": "stdout",
     "output_type": "stream",
     "text": [
      "Attack:  textfooler\n",
      "0.930 ( -0.031 )& 0.930 ( -0.031 )& 0.930 ( -0.031 )&\n",
      "0.937 ( -0.013 )& 0.934 ( -0.014 )& 0.934 ( -0.014 )&\n",
      "0.979 ( -0.015 )& 0.976 ( -0.018 )& 0.977 ( -0.017 )&\n",
      "------------------\n",
      "Attack:  textbugger\n",
      "0.938 ( -0.021 )& 0.938 ( -0.021 )& 0.938 ( -0.021 )&\n",
      "0.940 ( -0.011 )& 0.938 ( -0.011 )& 0.938 ( -0.011 )&\n",
      "0.985 ( -0.009 )& 0.984 ( -0.010 )& 0.984 ( -0.010 )&\n",
      "------------------\n"
     ]
    }
   ],
   "source": [
    "model = \"bert-small\"\n",
    "comments = \"attack on protocnn\"\n",
    "\n",
    "for attack in [\"textfooler\", \"textbugger\"]:\n",
    "    print(\"Attack: \", attack)\n",
    "    for dataset in [\"imdb\", \"ag_news\", \"dbpedia\"]:\n",
    "        sub_df = df[\n",
    "            (df[\"Model\"] == model)\n",
    "            & (df[\"comments\"] == comments)\n",
    "            & (df[\"dataset\"] == dataset)\n",
    "            & (df[\"dataset type\"].str.endswith(attack))\n",
    "        ]\n",
    "        if len(sub_df) != 2:\n",
    "            raise ValueError(\"Not 2 rows\")\n",
    "        adv = sub_df[sub_df[\"dataset type\"] == f\"adv - {attack}\"]\n",
    "        test = sub_df[sub_df[\"dataset type\"] == f\"test - {attack}\"]\n",
    "        print(\n",
    "            \"%.3f\" % adv[\"Precision Performance\"].values[0],\n",
    "            \"(\",\n",
    "            \"%.3f\"\n",
    "            % (\n",
    "                adv[\"Precision Performance\"].values[0]\n",
    "                - test[\"Precision Performance\"].values[0]\n",
    "            ),\n",
    "            \")&\",\n",
    "            \"%.3f\" % adv[\"Recall Performance\"].values[0],\n",
    "            \"(\",\n",
    "            \"%.3f\"\n",
    "            % (\n",
    "                adv[\"Recall Performance\"].values[0]\n",
    "                - test[\"Recall Performance\"].values[0]\n",
    "            ),\n",
    "            \")&\",\n",
    "            \"%.3f\" % adv[\"F1 performance\"].values[0],\n",
    "            \"(\",\n",
    "            \"%.3f\"\n",
    "            % (adv[\"F1 performance\"].values[0] - test[\"F1 performance\"].values[0]),\n",
    "            \")&\",\n",
    "        )\n",
    "    print(\"------------------\")"
   ]
  }
 ],
 "metadata": {
  "kernelspec": {
   "display_name": "base",
   "language": "python",
   "name": "python3"
  },
  "language_info": {
   "codemirror_mode": {
    "name": "ipython",
    "version": 3
   },
   "file_extension": ".py",
   "mimetype": "text/x-python",
   "name": "python",
   "nbconvert_exporter": "python",
   "pygments_lexer": "ipython3",
   "version": "3.9.13"
  },
  "orig_nbformat": 4
 },
 "nbformat": 4,
 "nbformat_minor": 2
}
