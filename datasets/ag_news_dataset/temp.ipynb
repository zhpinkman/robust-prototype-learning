{
 "cells": [
  {
   "cell_type": "code",
   "execution_count": 1,
   "metadata": {},
   "outputs": [],
   "source": [
    "import pandas as pd"
   ]
  },
  {
   "cell_type": "code",
   "execution_count": 2,
   "metadata": {},
   "outputs": [],
   "source": [
    "for attack_type in [\"deepwordbug\", \"textbugger\", \"textfooler\"]:\n",
    "    df = pd.read_csv(f\"adv_{attack_type}_combined.csv\")\n",
    "    test_df = df.copy()\n",
    "    test_df.drop(columns=[\"perturbed_text\"], inplace=True)\n",
    "    test_df.rename(columns={\"original_text\": \"text\"}, inplace=True)\n",
    "    test_df.to_csv(f\"test_{attack_type}.csv\", index=False)\n",
    "    df.drop(columns=[\"original_text\"], inplace=True)\n",
    "    df.rename(columns={\"perturbed_text\": \"text\"}, inplace=True)\n",
    "    df.to_csv(f\"adv_{attack_type}.csv\", index=False)"
   ]
  },
  {
   "cell_type": "code",
   "execution_count": null,
   "metadata": {},
   "outputs": [],
   "source": []
  }
 ],
 "metadata": {
  "kernelspec": {
   "display_name": "base",
   "language": "python",
   "name": "python3"
  },
  "language_info": {
   "codemirror_mode": {
    "name": "ipython",
    "version": 3
   },
   "file_extension": ".py",
   "mimetype": "text/x-python",
   "name": "python",
   "nbconvert_exporter": "python",
   "pygments_lexer": "ipython3",
   "version": "3.9.13"
  },
  "orig_nbformat": 4
 },
 "nbformat": 4,
 "nbformat_minor": 2
}
