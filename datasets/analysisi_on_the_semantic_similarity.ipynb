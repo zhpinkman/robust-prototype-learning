{
 "cells": [
  {
   "cell_type": "code",
   "execution_count": 22,
   "metadata": {},
   "outputs": [],
   "source": [
    "import json\n",
    "import pandas as pd\n",
    "import numpy as np\n",
    "from tqdm.notebook import tqdm\n",
    "import requests\n",
    "import os\n",
    "from sklearn.metrics.pairwise import cosine_similarity"
   ]
  },
  {
   "cell_type": "code",
   "execution_count": 7,
   "metadata": {},
   "outputs": [
    {
     "name": "stdout",
     "output_type": "stream",
     "text": [
      "/scratch/zhivar/robust-prototype-learning\n"
     ]
    }
   ],
   "source": [
    "root_directory = os.getcwd()\n",
    "print(root_directory)"
   ]
  },
  {
   "cell_type": "code",
   "execution_count": 8,
   "metadata": {},
   "outputs": [],
   "source": [
    "def get_embeddings(list_of_ids, list_of_texts, results_embeddings={}):\n",
    "    for _id, essay in tqdm(\n",
    "        zip(list_of_ids, list_of_texts), total=len(list_of_ids), leave=False\n",
    "    ):\n",
    "        try:\n",
    "            if str(_id) in results_embeddings.keys():\n",
    "                continue\n",
    "            api_key = os.environ.get(\"OPENAI_API_KEY\")\n",
    "            url = \"https://api.openai.com/v1/embeddings\"\n",
    "            headers = {\n",
    "                \"Authorization\": f\"Bearer {api_key}\",\n",
    "                \"Content-Type\": \"application/json\",\n",
    "            }\n",
    "            data = {\n",
    "                \"input\": essay,\n",
    "                \"model\": \"text-embedding-ada-002\",\n",
    "                \"encoding_format\": \"float\",\n",
    "            }\n",
    "\n",
    "            # Send the POST request\n",
    "            response = requests.post(url, headers=headers, json=data)\n",
    "\n",
    "            # Check the response status and content\n",
    "            if response.status_code == 200:\n",
    "                # Successful request, you can access the response data using response.json()\n",
    "                response_data = response.json()\n",
    "                results_embeddings[str(_id)] = response_data\n",
    "            else:\n",
    "                # Request failed, print the error message\n",
    "                print(\n",
    "                    f\"Request failed with status code {response.status_code}: {response.text}\"\n",
    "                )\n",
    "                continue\n",
    "        except Exception as e:\n",
    "            print(e)\n",
    "            raise e\n",
    "    return results_embeddings"
   ]
  },
  {
   "cell_type": "code",
   "execution_count": 9,
   "metadata": {},
   "outputs": [],
   "source": [
    "if os.path.exists(os.path.join(root_directory, \"datasets\", \"embeddings.json\")):\n",
    "    with open(os.path.join(root_directory, \"datasets\", \"embeddings.json\"), \"r\") as f:\n",
    "        embeddings = json.load(f)\n",
    "else:\n",
    "    embeddings = {}"
   ]
  },
  {
   "cell_type": "code",
   "execution_count": null,
   "metadata": {},
   "outputs": [],
   "source": [
    "for dataset in tqdm([\"imdb\", \"ag_news\", \"dbpedia\"], leave=False):\n",
    "    dataset_directory = os.path.join(root_directory, \"datasets\", f\"{dataset}_dataset\")\n",
    "    for attack_type in tqdm(\n",
    "        [\"deepwordbug\", \"textfooler\", \"textbugger\", \"pwws\", \"bae\"], leave=False\n",
    "    ):\n",
    "        for condition in tqdm([\"test\", \"adv\"], leave=False):\n",
    "            condition_file = os.path.join(\n",
    "                dataset_directory, f\"{condition}_{attack_type}.csv\"\n",
    "            )\n",
    "            condition_df = pd.read_csv(condition_file)\n",
    "            condition_texts = condition_df[\"text\"].tolist()[:100]\n",
    "\n",
    "            condition_ids = np.arange(len(condition_texts))\n",
    "\n",
    "            embeddings[f\"{dataset}_{attack_type}_{condition}\"] = get_embeddings(\n",
    "                condition_ids,\n",
    "                condition_texts,\n",
    "                embeddings.get(f\"{dataset}_{attack_type}_{condition}\", {}),\n",
    "            )\n",
    "\n",
    "with open(os.path.join(root_directory, \"datasets\", \"embeddings.json\"), \"w\") as f:\n",
    "    json.dump(embeddings, f, indent=2)"
   ]
  },
  {
   "cell_type": "code",
   "execution_count": 28,
   "metadata": {},
   "outputs": [
    {
     "data": {
      "application/vnd.jupyter.widget-view+json": {
       "model_id": "0d93669c151a483398359c2fb52c277c",
       "version_major": 2,
       "version_minor": 0
      },
      "text/plain": [
       "  0%|          | 0/3 [00:00<?, ?it/s]"
      ]
     },
     "metadata": {},
     "output_type": "display_data"
    },
    {
     "data": {
      "application/vnd.jupyter.widget-view+json": {
       "model_id": "ee0c7f4b37b14edf9c07cc96d56053e9",
       "version_major": 2,
       "version_minor": 0
      },
      "text/plain": [
       "  0%|          | 0/5 [00:00<?, ?it/s]"
      ]
     },
     "metadata": {},
     "output_type": "display_data"
    },
    {
     "data": {
      "application/vnd.jupyter.widget-view+json": {
       "model_id": "548a93c3ec754c3a9e58ecedac9555eb",
       "version_major": 2,
       "version_minor": 0
      },
      "text/plain": [
       "  0%|          | 0/100 [00:00<?, ?it/s]"
      ]
     },
     "metadata": {},
     "output_type": "display_data"
    },
    {
     "data": {
      "application/vnd.jupyter.widget-view+json": {
       "model_id": "ed886a420a8e46269f05f5b5640e1346",
       "version_major": 2,
       "version_minor": 0
      },
      "text/plain": [
       "  0%|          | 0/100 [00:00<?, ?it/s]"
      ]
     },
     "metadata": {},
     "output_type": "display_data"
    },
    {
     "data": {
      "application/vnd.jupyter.widget-view+json": {
       "model_id": "fb0ad20d3ea14a5bab09983ecdcf6a20",
       "version_major": 2,
       "version_minor": 0
      },
      "text/plain": [
       "  0%|          | 0/100 [00:00<?, ?it/s]"
      ]
     },
     "metadata": {},
     "output_type": "display_data"
    },
    {
     "data": {
      "application/vnd.jupyter.widget-view+json": {
       "model_id": "925e95110e59439f8625ca2c9fcd38e3",
       "version_major": 2,
       "version_minor": 0
      },
      "text/plain": [
       "  0%|          | 0/100 [00:00<?, ?it/s]"
      ]
     },
     "metadata": {},
     "output_type": "display_data"
    },
    {
     "data": {
      "application/vnd.jupyter.widget-view+json": {
       "model_id": "e7e76ba4a78a42bba524c6c53c16d1c9",
       "version_major": 2,
       "version_minor": 0
      },
      "text/plain": [
       "  0%|          | 0/100 [00:00<?, ?it/s]"
      ]
     },
     "metadata": {},
     "output_type": "display_data"
    },
    {
     "data": {
      "application/vnd.jupyter.widget-view+json": {
       "model_id": "32ef707589c044aa9db1894388a5fc18",
       "version_major": 2,
       "version_minor": 0
      },
      "text/plain": [
       "  0%|          | 0/5 [00:00<?, ?it/s]"
      ]
     },
     "metadata": {},
     "output_type": "display_data"
    },
    {
     "data": {
      "application/vnd.jupyter.widget-view+json": {
       "model_id": "5d5a3998ddbb4e58b5746a283b442270",
       "version_major": 2,
       "version_minor": 0
      },
      "text/plain": [
       "  0%|          | 0/100 [00:00<?, ?it/s]"
      ]
     },
     "metadata": {},
     "output_type": "display_data"
    },
    {
     "data": {
      "application/vnd.jupyter.widget-view+json": {
       "model_id": "876b9d61de1541b89eb3b6b0f8a0d48a",
       "version_major": 2,
       "version_minor": 0
      },
      "text/plain": [
       "  0%|          | 0/100 [00:00<?, ?it/s]"
      ]
     },
     "metadata": {},
     "output_type": "display_data"
    },
    {
     "data": {
      "application/vnd.jupyter.widget-view+json": {
       "model_id": "bd01a410d0db498f98b80b7567e689df",
       "version_major": 2,
       "version_minor": 0
      },
      "text/plain": [
       "  0%|          | 0/100 [00:00<?, ?it/s]"
      ]
     },
     "metadata": {},
     "output_type": "display_data"
    },
    {
     "data": {
      "application/vnd.jupyter.widget-view+json": {
       "model_id": "ad6549763d6f4e78bdf4865c082ed546",
       "version_major": 2,
       "version_minor": 0
      },
      "text/plain": [
       "  0%|          | 0/100 [00:00<?, ?it/s]"
      ]
     },
     "metadata": {},
     "output_type": "display_data"
    },
    {
     "data": {
      "application/vnd.jupyter.widget-view+json": {
       "model_id": "88ea4429ff964a8ab0f6b3147b150992",
       "version_major": 2,
       "version_minor": 0
      },
      "text/plain": [
       "  0%|          | 0/100 [00:00<?, ?it/s]"
      ]
     },
     "metadata": {},
     "output_type": "display_data"
    },
    {
     "data": {
      "application/vnd.jupyter.widget-view+json": {
       "model_id": "a0d4c38b595e4c60afc6bf7cd216d94a",
       "version_major": 2,
       "version_minor": 0
      },
      "text/plain": [
       "  0%|          | 0/5 [00:00<?, ?it/s]"
      ]
     },
     "metadata": {},
     "output_type": "display_data"
    },
    {
     "data": {
      "application/vnd.jupyter.widget-view+json": {
       "model_id": "b6e158e5ed164c4ebb4239cceb5730cb",
       "version_major": 2,
       "version_minor": 0
      },
      "text/plain": [
       "  0%|          | 0/100 [00:00<?, ?it/s]"
      ]
     },
     "metadata": {},
     "output_type": "display_data"
    },
    {
     "data": {
      "application/vnd.jupyter.widget-view+json": {
       "model_id": "63d124595f4445bd9fd69ecd149b1a9d",
       "version_major": 2,
       "version_minor": 0
      },
      "text/plain": [
       "  0%|          | 0/100 [00:00<?, ?it/s]"
      ]
     },
     "metadata": {},
     "output_type": "display_data"
    },
    {
     "data": {
      "application/vnd.jupyter.widget-view+json": {
       "model_id": "a86e3adff1324866a78373a5b39b035a",
       "version_major": 2,
       "version_minor": 0
      },
      "text/plain": [
       "  0%|          | 0/100 [00:00<?, ?it/s]"
      ]
     },
     "metadata": {},
     "output_type": "display_data"
    },
    {
     "data": {
      "application/vnd.jupyter.widget-view+json": {
       "model_id": "fe794866d72e4fdc9f2eaf172a93191d",
       "version_major": 2,
       "version_minor": 0
      },
      "text/plain": [
       "  0%|          | 0/100 [00:00<?, ?it/s]"
      ]
     },
     "metadata": {},
     "output_type": "display_data"
    },
    {
     "data": {
      "application/vnd.jupyter.widget-view+json": {
       "model_id": "ee789fa88b7041908fb63bf76e9f50f8",
       "version_major": 2,
       "version_minor": 0
      },
      "text/plain": [
       "  0%|          | 0/100 [00:00<?, ?it/s]"
      ]
     },
     "metadata": {},
     "output_type": "display_data"
    }
   ],
   "source": [
    "semantic_similarities = dict()\n",
    "for dataset in tqdm([\"imdb\", \"ag_news\", \"dbpedia\"], leave=False):\n",
    "    dataset_directory = os.path.join(root_directory, \"datasets\", f\"{dataset}_dataset\")\n",
    "    for attack_type in tqdm(\n",
    "        [\"deepwordbug\", \"textfooler\", \"textbugger\", \"pwws\", \"bae\"], leave=False\n",
    "    ):\n",
    "        original_embeddings = embeddings[f\"{dataset}_{attack_type}_test\"]\n",
    "        attack_embeddings = embeddings[f\"{dataset}_{attack_type}_adv\"]\n",
    "\n",
    "        original_embeddings = {\n",
    "            key: data[\"data\"][0][\"embedding\"]\n",
    "            for key, data in original_embeddings.items()\n",
    "        }\n",
    "        attack_embeddings = {\n",
    "            key: data[\"data\"][0][\"embedding\"] for key, data in attack_embeddings.items()\n",
    "        }\n",
    "        original_keys = set(original_embeddings.keys())\n",
    "        attack_keys = set(attack_embeddings.keys())\n",
    "        assert original_keys == attack_keys\n",
    "\n",
    "        similarities = list()\n",
    "        for key in tqdm(original_keys):\n",
    "            original_embedding = original_embeddings[key]\n",
    "            attack_embedding = attack_embeddings[key]\n",
    "            similarity = cosine_similarity([original_embedding], [attack_embedding])[0][\n",
    "                0\n",
    "            ]\n",
    "            similarities.append(similarity)\n",
    "        semantic_similarities[f\"{dataset}_{attack_type}\"] = (\n",
    "            np.mean(similarities),\n",
    "            np.std(similarities),\n",
    "        )"
   ]
  },
  {
   "cell_type": "code",
   "execution_count": 29,
   "metadata": {},
   "outputs": [
    {
     "data": {
      "text/plain": [
       "{'imdb_deepwordbug': (0.9904409891267784, 0.009918638269768881),\n",
       " 'imdb_textfooler': (0.9810825357688218, 0.020157756355684467),\n",
       " 'imdb_textbugger': (0.9837575747487755, 0.019487219057884534),\n",
       " 'imdb_pwws': (0.983694823582972, 0.01901823487737364),\n",
       " 'imdb_bae': (0.9941615531904249, 0.006331167633056274),\n",
       " 'ag_news_deepwordbug': (0.964955895939746, 0.018207566998872746),\n",
       " 'ag_news_textfooler': (0.9510906159565657, 0.028300085195914332),\n",
       " 'ag_news_textbugger': (0.973892131308832, 0.017474803796811163),\n",
       " 'ag_news_pwws': (0.9536064508088522, 0.03144961258670697),\n",
       " 'ag_news_bae': (0.9846871324982324, 0.019841025832571527),\n",
       " 'dbpedia_deepwordbug': (0.9622527694389444, 0.025093614152112535),\n",
       " 'dbpedia_textfooler': (0.9456673008490548, 0.039495608123832765),\n",
       " 'dbpedia_textbugger': (0.9691112866669972, 0.022947915971711537),\n",
       " 'dbpedia_pwws': (0.965366771905382, 0.025946964737336816),\n",
       " 'dbpedia_bae': (0.9721582833109741, 0.05787453080610874)}"
      ]
     },
     "execution_count": 29,
     "metadata": {},
     "output_type": "execute_result"
    }
   ],
   "source": [
    "semantic_similarities"
   ]
  }
 ],
 "metadata": {
  "kernelspec": {
   "display_name": "py310",
   "language": "python",
   "name": "python3"
  },
  "language_info": {
   "codemirror_mode": {
    "name": "ipython",
    "version": 3
   },
   "file_extension": ".py",
   "mimetype": "text/x-python",
   "name": "python",
   "nbconvert_exporter": "python",
   "pygments_lexer": "ipython3",
   "version": "3.9.16"
  }
 },
 "nbformat": 4,
 "nbformat_minor": 2
}
