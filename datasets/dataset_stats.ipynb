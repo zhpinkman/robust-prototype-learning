{
 "cells": [
  {
   "cell_type": "code",
   "execution_count": 7,
   "metadata": {},
   "outputs": [],
   "source": [
    "import pandas as pd\n",
    "from sklearn.model_selection import train_test_split\n",
    "import os\n",
    "import numpy as np"
   ]
  },
  {
   "cell_type": "code",
   "execution_count": 11,
   "metadata": {},
   "outputs": [
    {
     "name": "stdout",
     "output_type": "stream",
     "text": [
      "25000\n",
      "25000\n",
      "25000\n",
      "25000\n",
      "25000\n",
      "7600\n",
      "7600\n",
      "7600\n",
      "7600\n",
      "7600\n",
      "60794\n",
      "60794\n",
      "60794\n",
      "60794\n",
      "60794\n",
      "872\n"
     ]
    }
   ],
   "source": [
    "datasets = []\n",
    "attack_types = []\n",
    "number_of_samples = []\n",
    "for dataset in [\"imdb\", \"ag_news\", \"dbpedia\", \"sst2\"]:\n",
    "    all_attack_types = (\n",
    "        [\"pwws\", \"textfooler\", \"textbugger\", \"deepwordbug\", \"bae\"]\n",
    "        if dataset != \"sst2\"\n",
    "        else [\"glue\"]\n",
    "    )\n",
    "    for attack_type in all_attack_types:\n",
    "        df = pd.read_csv(os.path.join(f\"{dataset}_dataset\", f\"adv_{attack_type}.csv\"))\n",
    "        test_df = pd.read_csv(os.path.join(f\"{dataset}_dataset\", \"test.csv\"))\n",
    "        print(len(test_df))\n",
    "        datasets.append(dataset)\n",
    "        attack_types.append(attack_type)\n",
    "        number_of_samples.append(len(df))"
   ]
  },
  {
   "cell_type": "code",
   "execution_count": 9,
   "metadata": {},
   "outputs": [],
   "source": [
    "dataset_df = pd.DataFrame(\n",
    "    {\n",
    "        \"dataset\": datasets,\n",
    "        \"attack_type\": attack_types,\n",
    "        \"number_of_samples\": number_of_samples,\n",
    "    }\n",
    ")"
   ]
  },
  {
   "cell_type": "code",
   "execution_count": 10,
   "metadata": {},
   "outputs": [
    {
     "name": "stderr",
     "output_type": "stream",
     "text": [
      "/var/folders/s6/_dcfmqnx4mxbhf22rbww8kwc0000gp/T/ipykernel_82396/3949653570.py:1: FutureWarning: The provided callable <function sum at 0x105c365e0> is currently using DataFrameGroupBy.sum. In a future version of pandas, the provided callable will be used directly. To keep current behavior pass the string \"sum\" instead.\n",
      "  dataset_df.pivot_table(\n"
     ]
    },
    {
     "data": {
      "text/html": [
       "<div>\n",
       "<style scoped>\n",
       "    .dataframe tbody tr th:only-of-type {\n",
       "        vertical-align: middle;\n",
       "    }\n",
       "\n",
       "    .dataframe tbody tr th {\n",
       "        vertical-align: top;\n",
       "    }\n",
       "\n",
       "    .dataframe thead tr th {\n",
       "        text-align: left;\n",
       "    }\n",
       "\n",
       "    .dataframe thead tr:last-of-type th {\n",
       "        text-align: right;\n",
       "    }\n",
       "</style>\n",
       "<table border=\"1\" class=\"dataframe\">\n",
       "  <thead>\n",
       "    <tr>\n",
       "      <th></th>\n",
       "      <th colspan=\"6\" halign=\"left\">number_of_samples</th>\n",
       "    </tr>\n",
       "    <tr>\n",
       "      <th>attack_type</th>\n",
       "      <th>bae</th>\n",
       "      <th>deepwordbug</th>\n",
       "      <th>glue</th>\n",
       "      <th>pwws</th>\n",
       "      <th>textbugger</th>\n",
       "      <th>textfooler</th>\n",
       "    </tr>\n",
       "    <tr>\n",
       "      <th>dataset</th>\n",
       "      <th></th>\n",
       "      <th></th>\n",
       "      <th></th>\n",
       "      <th></th>\n",
       "      <th></th>\n",
       "      <th></th>\n",
       "    </tr>\n",
       "  </thead>\n",
       "  <tbody>\n",
       "    <tr>\n",
       "      <th>ag_news</th>\n",
       "      <td>663.0</td>\n",
       "      <td>1287.0</td>\n",
       "      <td>NaN</td>\n",
       "      <td>1533.0</td>\n",
       "      <td>1383.0</td>\n",
       "      <td>1893.0</td>\n",
       "    </tr>\n",
       "    <tr>\n",
       "      <th>dbpedia</th>\n",
       "      <td>1041.0</td>\n",
       "      <td>1143.0</td>\n",
       "      <td>NaN</td>\n",
       "      <td>1401.0</td>\n",
       "      <td>1281.0</td>\n",
       "      <td>1836.0</td>\n",
       "    </tr>\n",
       "    <tr>\n",
       "      <th>imdb</th>\n",
       "      <td>1784.0</td>\n",
       "      <td>1584.0</td>\n",
       "      <td>NaN</td>\n",
       "      <td>2816.0</td>\n",
       "      <td>2408.0</td>\n",
       "      <td>2880.0</td>\n",
       "    </tr>\n",
       "    <tr>\n",
       "      <th>sst2</th>\n",
       "      <td>NaN</td>\n",
       "      <td>NaN</td>\n",
       "      <td>131.0</td>\n",
       "      <td>NaN</td>\n",
       "      <td>NaN</td>\n",
       "      <td>NaN</td>\n",
       "    </tr>\n",
       "  </tbody>\n",
       "</table>\n",
       "</div>"
      ],
      "text/plain": [
       "            number_of_samples                                                 \n",
       "attack_type               bae deepwordbug   glue    pwws textbugger textfooler\n",
       "dataset                                                                       \n",
       "ag_news                 663.0      1287.0    NaN  1533.0     1383.0     1893.0\n",
       "dbpedia                1041.0      1143.0    NaN  1401.0     1281.0     1836.0\n",
       "imdb                   1784.0      1584.0    NaN  2816.0     2408.0     2880.0\n",
       "sst2                      NaN         NaN  131.0     NaN        NaN        NaN"
      ]
     },
     "execution_count": 10,
     "metadata": {},
     "output_type": "execute_result"
    }
   ],
   "source": [
    "dataset_df.pivot_table(\n",
    "    columns=[\"attack_type\"],\n",
    "    index=[\"dataset\"],\n",
    "    values=[\"number_of_samples\"],\n",
    "    aggfunc=np.sum,\n",
    ")"
   ]
  },
  {
   "cell_type": "code",
   "execution_count": null,
   "metadata": {},
   "outputs": [],
   "source": []
  }
 ],
 "metadata": {
  "kernelspec": {
   "display_name": "prototex",
   "language": "python",
   "name": "python3"
  },
  "language_info": {
   "codemirror_mode": {
    "name": "ipython",
    "version": 3
   },
   "file_extension": ".py",
   "mimetype": "text/x-python",
   "name": "python",
   "nbconvert_exporter": "python",
   "pygments_lexer": "ipython3",
   "version": "3.9.13"
  }
 },
 "nbformat": 4,
 "nbformat_minor": 2
}
